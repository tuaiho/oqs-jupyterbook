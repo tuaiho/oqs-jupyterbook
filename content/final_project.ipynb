{
 "cells": [
  {
   "cell_type": "markdown",
   "metadata": {},
   "source": [
    "## Lopputyö: Pauli twirling\n",
    "\n",
    "Paulin pyöräytys (Pauli twirling), joka tunnetaan myös satunnaistettuna kokoamisena (randomized compiling), on yleinen askel monien melunvaimennustekniikoiden edellä, joita käytetään kvanttilaskennassa. Paulin pyöräytyksellä on mahdollista muokata yleiset melukanavat stokastisiksi Paulin kanaviksi, joiden malli on kohtalaisen yksinkertainen, samalla kun paikalliset piirit pysyvät muuttumattomina. \n",
    "\n",
    "Tässä viimeisessä projektissa tutkimme Paulin pyöräytyksen vaikutusta erilaisiin melukanaviin, joita tällä kurssilla on käsitelty, toteutamme mukautetun koeluokan, jota voidaan käyttää yhdessä muiden qiskit-koeluokkien kanssa ja simuloimme Paulin pyöräytyksen vaikutusta melukanaviin."
   ]
  },
  {
   "cell_type": "markdown",
   "metadata": {},
   "source": [
    "Paulin pyöräytys esitettiin ensimmäistä kertaa satunnaistettuna kokoamisena tutkimuksessa [J. Wallman and J. Emerson, Phys. Rev. A 94, 052325 (2015)](https://journals.aps.org/pra/abstract/10.1103/PhysRevA.94.052325). Se toimii tuottamalla klassisia sekoituksia melukanavista käyttäen portteja kanavan jommassakummassa päädyssä. Nämä portit valitaan usein olemaan Paulin portteja $\\{I, X, Y, Z\\}$. Pyöräytyksen toimintaa (twirling action) $\\mathcal{T}_i$ kvanttikanavaan $\\Lambda(\\rho)$ kuvaa yhtälö: \n",
    "\\begin{align}\n",
    "\\mathcal{T}_i\\Lambda &=\\mathcal{P}_i\\Lambda\\mathcal{P}_i^\\dagger\n",
    "\\end{align}\n",
    "jossa superoperaattori $\\mathcal{P}_i$ toimii operaattoriin seuraavalla tavalla: \n",
    "\\begin{align}\n",
    "\\mathcal{P}_i\\Lambda&= \\sigma_i^\\dagger\\Lambda\\sigma_i.\n",
    "\\end{align}"
   ]
  },
  {
   "cell_type": "markdown",
   "metadata": {},
   "source": [
    "Lopullinen kanava saadaan laskemalla keskiarvo pyöräytettyjen kanavien ja valittujen porttien yli, tässä tapauksessa Paulin porttien yli: \n",
    "\\begin{align}\n",
    "\\widetilde{\\Lambda} &= \\frac{1}{4}\\sum_{i=0}^3{\\mathcal{T}_i\\Lambda} \\\\\n",
    "&= \\frac{\\Lambda + \\mathcal{P}_{x}\\Lambda \\mathcal{P}_{x}^\\dagger + \\mathcal{P}_{y}\\Lambda \\mathcal{P}_{y}^\\dagger + \\mathcal{P}_{z} \\Lambda \\mathcal{P}_{z}^\\dagger}{4}.\n",
    "\\end{align}\n",
    "\n",
    "\\begin{align}\n",
    "\\widetilde{\\Lambda}(\\rho) &= \\frac{1}{4}\\sum_{i=0}^3{\\mathcal{T}_i\\Lambda(\\rho)} \\\\\n",
    "&= \\frac{1}{4}\\sum_{i=0}^3{\\mathcal{P}_i(\\Lambda(\\mathcal{P}_i^\\dagger(\\rho)))} \\\\\n",
    "&= \\frac{\\Lambda \\rho + \\mathcal{P}_{x}\\Lambda \\mathcal{P}_{x}^\\dagger \\rho + \\mathcal{P}_{y}\\Lambda \\mathcal{P}_{y}^\\dagger \\rho + \\mathcal{P}_{z} \\Lambda \\mathcal{P}_{z}^\\dagger \\rho}{4}.\n",
    "\\end{align}"
   ]
  },
  {
   "cell_type": "markdown",
   "metadata": {},
   "source": [
    "Aloitamme tiheysmatriisista $\\rho$ ja sovellamme kanavaa $\\Lambda$  siihen: :\n",
    "$$\\Lambda \\rho = \\Lambda(\\rho)$$\n",
    "Seuraavaksi pyöräytämme ainoastaan kanavaa: \n",
    "$$\\widetilde{\\Lambda} = \\mathcal{T}_i\\Lambda = \\mathcal{P}_i\\Lambda\\mathcal{P}_i^\\dagger$$\n",
    "Kun sovellamme tätä uutta kanavaa $\\rho$:n uudelleen, saamme \n",
    "$$\\widetilde{\\Lambda}(\\rho) = \\mathcal{P}_i\\Lambda\\mathcal{P}_i^\\dagger\\rho = \\mathcal{P}_i(\\Lambda(\\mathcal{P}_i^\\dagger(\\rho))).$$\n",
    "Oikeanpuoleinen Paulin superoperaattori toimii pyöräytetyn kanavan sisällä näkyvään kohteeseen, ei itse kanavaan. "
   ]
  },
  {
   "cell_type": "code",
   "execution_count": 1,
   "metadata": {},
   "outputs": [],
   "source": [
    "from qiskit import QuantumRegister, ClassicalRegister, QuantumCircuit\n",
    "import numpy as np"
   ]
  },
  {
   "cell_type": "markdown",
   "metadata": {},
   "source": [
    "### Task 1 (7p)\n",
    "\n",
    "Laske algebrallisesti lopputuloksena saatava kanava, kun seuraaviin kohteisiin käytetään Paulin pyöräytystä: \n",
    "\n",
    "1) Bitinkääntökanava (bit-flip channel) \n",
    "$$ \\Lambda_d (\\rho) = (1-p) I \\rho I + p (X \\rho X)$$\n",
    "2) Koherentti kierto (coherent rotation)\n",
    "$$ \\Lambda_r (\\rho) = \\cos^2{\\left(\\frac{\\theta}{2}\\right)} I \\rho I  + \\sin^2{\\left(\\frac{\\theta}{2}\\right)} X \\rho X + \\frac{i}{2} (\\sin{(\\theta)} I \\rho X - \\sin{(\\theta)} X \\rho I)$$\n",
    "3) Amplitudinvaimennuskanava (amplitude damping channel)\n",
    "$$ \\Lambda_a (\\rho) = A_0 \\rho A_0^\\dagger + A_1 \\rho A_1^\\dagger$$\n",
    "jossa $A_0 = \\frac{(1+\\sqrt{1-p})}{2} I  + \\frac{(1-\\sqrt{1-p})}{2} Z$ and $A_1 = \\frac{\\sqrt{p}}{2} (X + iY)$.\n",
    "\n",
    "Kirjoita lopputuloksena saatavat kanavat Paulin kanavina."
   ]
  },
  {
   "cell_type": "markdown",
   "metadata": {},
   "source": []
  },
  {
   "cell_type": "markdown",
   "metadata": {},
   "source": [
    "### Task 2 (8p)\n",
    "\n",
    "Write custom experiment and analysis classes using e.g. the qiskit-experiments framework for extracting density matrices after twirling noise channels using state tomography.\n",
    "The experiment class should accept at least one circuit with a noise channel as input and the analysis class should return a density matrix as output.\n",
    "\n",
    "There are many possible ways of implementing this, but to give you an idea where to start, we provide you with a template below. Your experiment class could inherit from `BaseExperiment` or `TomographyExperiment` and implement the `__init__` and `circuit` methods to produce the circuits necessary for Pauli twirling. Your analysis class could inherit from `BaseAnalysis` and implement the `_run_analysis` method to average the results over different twirls obtained from the experiment. You can use the instructions on the [qiskit-experiments Documentation](https://qiskit.org/ecosystem/experiments/tutorials/custom_experiment.html) for help. Qiskit-experiments is fully open source, so looking at the source code can help as well."
   ]
  },
  {
   "cell_type": "code",
   "execution_count": 46,
   "metadata": {},
   "outputs": [],
   "source": [
    "from qiskit import QuantumCircuit\n",
    "from typing import Tuple, List, Optional, Sequence\n",
    "import matplotlib\n",
    "from qiskit.providers.backend import Backend\n",
    "from qiskit_experiments.library.tomography import TomographyExperiment\n",
    "from qiskit_experiments.framework import (\n",
    "    BaseAnalysis,\n",
    "    Options,\n",
    "    ExperimentData,\n",
    "    AnalysisResultData\n",
    ")\n",
    "\n",
    "class TwirledStateTomographyAnalysis(BaseAnalysis):\n",
    "    \"\"\"Analysis class for state tomography with twirling.\"\"\"\n",
    "\n",
    "    @classmethod\n",
    "    def _default_options(cls) -> Options:\n",
    "        \"\"\"Set default analysis options.\"\"\"\n",
    "\n",
    "        options = super()._default_options()\n",
    "        options.plot = False\n",
    "        options.ax = None\n",
    "        return options\n",
    "\n",
    "    def _run_analysis(\n",
    "        self,\n",
    "        experiment_data: ExperimentData\n",
    "    ) -> Tuple[List[AnalysisResultData], List[\"matplotlib.figure.Figure\"]]:\n",
    "        \"\"\"Run the analysis.\"\"\"\n",
    "\n",
    "        data_objects = experiment_data.data()\n",
    "\n",
    "        # Combine twirled results and perform state tomography\n",
    "        result = AnalysisResultData()\n",
    "\n",
    "        return result, []\n",
    "\n",
    "class TwirledStateTomography(TomographyExperiment):\n",
    "    \"\"\"State tomography with twirling.\"\"\"\n",
    "\n",
    "    def __init__(self,\n",
    "                 circuit: QuantumCircuit,\n",
    "                #  add your own arguments here...\n",
    "                 physical_qubits: Sequence[int] = None,\n",
    "                 measurement_indices: Sequence[int] = None,\n",
    "                 backend: Optional[Backend] = None):\n",
    "        \"\"\"Initialize the experiment.\"\"\"\n",
    "        if physical_qubits is None:\n",
    "            physical_qubits = tuple(range(circuit.num_qubits))\n",
    "        super().__init__(circuit=circuit,\n",
    "                        backend=backend,\n",
    "                        physical_qubits=physical_qubits,\n",
    "                        measurement_indices=measurement_indices,\n",
    "                        analysis=TwirledStateTomographyAnalysis(),\n",
    "                        )\n",
    "\n",
    "    def circuits(self) -> List[QuantumCircuit]:\n",
    "        \"\"\"Generate the list of circuits to be run.\"\"\"\n",
    "        circuits = []\n",
    "        # Generate circuits and populate metadata here\n",
    "\n",
    "        return circuits\n",
    "\n",
    "    @classmethod\n",
    "    def _default_experiment_options(cls) -> Options:\n",
    "        \"\"\"Set default experiment options here.\"\"\"\n",
    "        options = super()._default_experiment_options()\n",
    "        return options"
   ]
  },
  {
   "cell_type": "markdown",
   "metadata": {},
   "source": [
    "### Task 3 (8p)\n",
    "Initialize a qubit in a state with non-zero populations and coherences. Apply each of the noise channels below to that qubit and perform state tomography with and without twirling applied on the channel. For each noise channel, plot on the same figure $\\rho_{00}$, $\\rho_{11}$, $Re(\\rho_{01})$, $Im(\\rho_{01})$ for the twirled and non-twirled cases for different values of $p$ or $\\theta$. \n",
    "\n",
    "Noise channels:\n",
    "- Bit-flip\n",
    "    - Pauli channel with $(1-p, p, 0, 0)$.\n",
    "- Coherent rotation\n",
    "    - Apply the RX gate with a small angle.\n",
    "- Amplitude damping channel\n",
    "\n",
    "\n",
    "You are allowed to use the implementations of the noise channels from previous projects or noise models in `qiskit_aer.noise`."
   ]
  },
  {
   "cell_type": "code",
   "execution_count": null,
   "metadata": {},
   "outputs": [],
   "source": [
    "p_values = np.linspace(0, 1, 10)\n",
    "theta_values = np.linspace(-np.pi, np.pi, 10)\n",
    "\n"
   ]
  },
  {
   "cell_type": "markdown",
   "metadata": {},
   "source": [
    "### Task 4 (7p)\n",
    "Finally, let us invert or mitigate the twirled noise channels to extract the noiseless density matrix. After twirling, the noise channel should be in the form of a Pauli channel, which is relatively easy to invert if the noise coefficients are known. The inverted channel is not guaranteed to be a physical channel, as the coefficients may be negative. The procedure to invert common noise channels is described in [S. Mangini, et al. EPJ Quantum Technol. 9, 29 (2022)](https://doi.org/10.1140/epjqt/s40507-022-00151-0).\n",
    "\n",
    "The inverse of a general Pauli channel with coefficients $(p_{0}, p_{x}, p_{y}, p_{z})$ is found to be\n",
    "$$\\begin{aligned} & \\Lambda^{-1}_{\\boldsymbol{p}}(\\Lambda) = \\beta _{0} \\Lambda + \\beta _{1} \\sigma _{x} {\\Lambda} \\sigma _{x} + \\beta _{2} \\sigma _{y} {\\Lambda} \\sigma _{y} + \\beta _{3} \\sigma _{z} {\\Lambda} \\sigma _{z}\\quad \\text{with} \\\\ & \\beta _{0} =\\frac{1}{4} \\biggl(1+\\frac{1}{1-2(p_{x}+p_{y})}+ \\frac{1}{1-2(p_{x}+p_{z})}+\\frac{1}{1-2(p_{y}+p_{z})} \\biggr), \\\\ & \\beta _{1} = \\frac{1}{4} \\biggl(1-\\frac{1}{1-2(p_{x}+p_{y})}- \\frac{1}{1-2(p_{x}+p_{z})}+\\frac{1}{1-2(p_{y}+p_{z})} \\biggr), \\\\ & \\beta _{2} = \\frac{1}{4} \\biggl(1-\\frac{1}{1-2(p_{x}+p_{y})}+ \\frac{1}{1-2(p_{x}+p_{z})}-\\frac{1}{1-2(p_{y}+p_{z})} \\biggr), \\\\ & \\beta _{3} = \\frac{1}{4} \\biggl(1+\\frac{1}{1-2(p_{x}+p_{y})}- \\frac{1}{1-2(p_{x}+p_{z})}-\\frac{1}{1-2(p_{y}+p_{z})} \\biggr) . \\end{aligned}$$\n",
    "\n",
    "Using the coefficients of the twirled noise channels from Task 1, invert each of the density matrices you found in Task 3 (for each $p$ and $\\theta$) and compare $\\rho_{00}$, $\\rho_{11}$, $Re(\\rho_{01})$, $Im(\\rho_{01})$ to the non-inverted ones in e.g. a plot.\n",
    "\n",
    "Hint: The expressions simplify a lot if you substitute the coefficients from Task 1."
   ]
  },
  {
   "cell_type": "code",
   "execution_count": null,
   "metadata": {},
   "outputs": [],
   "source": []
  }
 ],
 "metadata": {
  "kernelspec": {
   "display_name": "Python 3.8.5 64-bit ('base': conda)",
   "name": "python3"
  },
  "language_info": {
   "codemirror_mode": {
    "name": "ipython",
    "version": 3
   },
   "file_extension": ".py",
   "mimetype": "text/x-python",
   "name": "python",
   "nbconvert_exporter": "python",
   "pygments_lexer": "ipython3",
   "version": "3.11.9"
  }
 },
 "nbformat": 4,
 "nbformat_minor": 2
}
