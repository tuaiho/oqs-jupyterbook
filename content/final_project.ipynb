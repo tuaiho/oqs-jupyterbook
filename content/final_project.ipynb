{
 "cells": [
  {
   "cell_type": "markdown",
   "metadata": {},
   "source": [
    "## Lopputyö: Pauli twirling\n",
    "\n",
    "Paulin pyöräytys (Pauli twirling), joka tunnetaan myös satunnaistettuna kokoamisena (randomized compiling), on yleinen askel monien melunvaimennustekniikoiden edellä, joita käytetään kvanttilaskennassa. Paulin pyöräytyksellä on mahdollista muokata yleiset melukanavat stokastisiksi Paulin kanaviksi, joiden malli on kohtalaisen yksinkertainen, samalla kun paikalliset piirit pysyvät muuttumattomina. \n",
    "\n",
    "Tässä viimeisessä projektissa tutkimme Paulin pyöräytyksen vaikutusta erilaisiin melukanaviin, joita tällä kurssilla on käsitelty, toteutamme mukautetun koeluokan, jota voidaan käyttää yhdessä muiden qiskit-koeluokkien kanssa ja simuloimme Paulin pyöräytyksen vaikutusta melukanaviin."
   ]
  },
  {
   "cell_type": "markdown",
   "metadata": {},
   "source": [
    "Paulin pyöräytys esitettiin ensimmäistä kertaa satunnaistettuna kokoamisena tutkimuksessa [J. Wallman and J. Emerson, Phys. Rev. A 94, 052325 (2015)](https://journals.aps.org/pra/abstract/10.1103/PhysRevA.94.052325). Se toimii tuottamalla klassisia sekoituksia melukanavista käyttäen portteja kanavan jommassakummassa päädyssä. Nämä portit valitaan usein olemaan Paulin portteja $\\{I, X, Y, Z\\}$. Pyöräytyksen toimintaa (twirling action) $\\mathcal{T}_i$ kvanttikanavaan $\\Lambda(\\rho)$ kuvaa yhtälö: \n",
    "\\begin{align}\n",
    "\\mathcal{T}_i\\Lambda &=\\mathcal{P}_i\\Lambda\\mathcal{P}_i^\\dagger\n",
    "\\end{align}\n",
    "jossa superoperaattori $\\mathcal{P}_i$ toimii operaattoriin seuraavalla tavalla: \n",
    "\\begin{align}\n",
    "\\mathcal{P}_i\\Lambda&= \\sigma_i^\\dagger\\Lambda\\sigma_i.\n",
    "\\end{align}"
   ]
  },
  {
   "cell_type": "markdown",
   "metadata": {},
   "source": [
    "Lopullinen kanava saadaan laskemalla keskiarvo pyöräytettyjen kanavien ja valittujen porttien yli, tässä tapauksessa Paulin porttien yli: \n",
    "\\begin{align}\n",
    "\\widetilde{\\Lambda} &= \\frac{1}{4}\\sum_{i=0}^3{\\mathcal{T}_i\\Lambda} \\\\\n",
    "&= \\frac{\\Lambda + \\mathcal{P}_{x}\\Lambda \\mathcal{P}_{x}^\\dagger + \\mathcal{P}_{y}\\Lambda \\mathcal{P}_{y}^\\dagger + \\mathcal{P}_{z} \\Lambda \\mathcal{P}_{z}^\\dagger}{4}.\n",
    "\\end{align}\n",
    "\n",
    "\\begin{align}\n",
    "\\widetilde{\\Lambda}(\\rho) &= \\frac{1}{4}\\sum_{i=0}^3{\\mathcal{T}_i\\Lambda(\\rho)} \\\\\n",
    "&= \\frac{1}{4}\\sum_{i=0}^3{\\mathcal{P}_i(\\Lambda(\\mathcal{P}_i^\\dagger(\\rho)))} \\\\\n",
    "&= \\frac{\\Lambda \\rho + \\mathcal{P}_{x}\\Lambda \\mathcal{P}_{x}^\\dagger \\rho + \\mathcal{P}_{y}\\Lambda \\mathcal{P}_{y}^\\dagger \\rho + \\mathcal{P}_{z} \\Lambda \\mathcal{P}_{z}^\\dagger \\rho}{4}.\n",
    "\\end{align}"
   ]
  },
  {
   "cell_type": "markdown",
   "metadata": {},
   "source": [
    "Aloitamme tiheysmatriisista $\\rho$ ja sovellamme kanavaa $\\Lambda$  siihen: :\n",
    "$$\\Lambda \\rho = \\Lambda(\\rho)$$\n",
    "Seuraavaksi pyöräytämme ainoastaan kanavaa: \n",
    "$$\\widetilde{\\Lambda} = \\mathcal{T}_i\\Lambda = \\mathcal{P}_i\\Lambda\\mathcal{P}_i^\\dagger$$\n",
    "Kun sovellamme tätä uutta kanavaa $\\rho$:n uudelleen, saamme \n",
    "$$\\widetilde{\\Lambda}(\\rho) = \\mathcal{P}_i\\Lambda\\mathcal{P}_i^\\dagger\\rho = \\mathcal{P}_i(\\Lambda(\\mathcal{P}_i^\\dagger(\\rho))).$$\n",
    "Oikeanpuoleinen Paulin superoperaattori toimii pyöräytetyn kanavan sisällä näkyvään kohteeseen, ei itse kanavaan. "
   ]
  },
  {
   "cell_type": "code",
   "execution_count": 1,
   "metadata": {},
   "outputs": [],
   "source": [
    "from qiskit import QuantumRegister, ClassicalRegister, QuantumCircuit\n",
    "import numpy as np"
   ]
  },
  {
   "cell_type": "markdown",
   "metadata": {},
   "source": [
    "### Tehtävä 1 (7p)\n",
    "\n",
    "Laske algebrallisesti lopputuloksena saatava kanava, kun seuraaviin kohteisiin käytetään Paulin pyöräytystä: \n",
    "\n",
    "1) Bitinkääntökanava (bit-flip channel) \n",
    "$$ \\Lambda_d (\\rho) = (1-p) I \\rho I + p (X \\rho X)$$\n",
    "2) Koherentti kierto (coherent rotation)\n",
    "$$ \\Lambda_r (\\rho) = \\cos^2{\\left(\\frac{\\theta}{2}\\right)} I \\rho I  + \\sin^2{\\left(\\frac{\\theta}{2}\\right)} X \\rho X + \\frac{i}{2} (\\sin{(\\theta)} I \\rho X - \\sin{(\\theta)} X \\rho I)$$\n",
    "3) Amplitudinvaimennuskanava (amplitude damping channel)\n",
    "$$ \\Lambda_a (\\rho) = A_0 \\rho A_0^\\dagger + A_1 \\rho A_1^\\dagger$$\n",
    "jossa $A_0 = \\frac{(1+\\sqrt{1-p})}{2} I  + \\frac{(1-\\sqrt{1-p})}{2} Z$ and $A_1 = \\frac{\\sqrt{p}}{2} (X + iY)$.\n",
    "\n",
    "Kirjoita lopputuloksena saatavat kanavat Paulin kanavina."
   ]
  },
  {
   "cell_type": "markdown",
   "metadata": {},
   "source": []
  },
  {
   "cell_type": "markdown",
   "metadata": {},
   "source": [
    "### Tehtävä 2 (8p)\n",
    "\n",
    "Kirjoita mukautettuja koe- ja analyysiluokkia, joilla saat poimittua tiheysmatriisit tilatomografian avulla melukanavien pyöräyttämisen jälkeen.  \n",
    "Voit käyttää tähän esimerkiksi qiskit-experiments-kehystä. Koeluokan tulisi hyväksyä syötteeksi vähintään yksi melukanavalla varustettu piiri, ja analyysiluokan tulisi palauttaa lopputuloksena tiheysmatriisi. \n",
    "\n",
    "Tämän voi toteuttaa monella eri tavalla, mutta alla on malli, josta voi olla apua, jos miettii mistä aloittaa. Koeluokkasi pohjana voi olla `BaseExperiment` tai `TomographyExperiment` ja se voi käyttää `__init__` ja  `circuit` -metodeja tuottaakseen Paulin pyöräytykseen tarvittavat piirit. Analyysiluokan pohjana taas voi olla `BaseAnalysis` ja se voi käyttää `_run_analysis` -metodia ottaakseen tuloksista keskiarvon erilaisten pyöräytysten yli, joita kokeessa saadaan. Voit käyttää seuraavaa ohjetta apunasi: [qiskit-experiments Documentation](https://qiskit.org/ecosystem/experiments/tutorials/custom_experiment.html). Qiskit-experiments käyttää täysin avointa lähdekoodia, joten lähdekoodin tarkastelu voi myös olla hyödyksi. "
   ]
  },
  {
   "cell_type": "code",
   "execution_count": 46,
   "metadata": {},
   "outputs": [],
   "source": [
    "from qiskit import QuantumCircuit\n",
    "from typing import Tuple, List, Optional, Sequence\n",
    "import matplotlib\n",
    "from qiskit.providers.backend import Backend\n",
    "from qiskit_experiments.library.tomography import TomographyExperiment\n",
    "from qiskit_experiments.framework import (\n",
    "    BaseAnalysis,\n",
    "    Options,\n",
    "    ExperimentData,\n",
    "    AnalysisResultData\n",
    ")\n",
    "\n",
    "class TwirledStateTomographyAnalysis(BaseAnalysis):\n",
    "    \"\"\"Analysis class for state tomography with twirling.\"\"\"\n",
    "\n",
    "    @classmethod\n",
    "    def _default_options(cls) -> Options:\n",
    "        \"\"\"Set default analysis options.\"\"\"\n",
    "\n",
    "        options = super()._default_options()\n",
    "        options.plot = False\n",
    "        options.ax = None\n",
    "        return options\n",
    "\n",
    "    def _run_analysis(\n",
    "        self,\n",
    "        experiment_data: ExperimentData\n",
    "    ) -> Tuple[List[AnalysisResultData], List[\"matplotlib.figure.Figure\"]]:\n",
    "        \"\"\"Run the analysis.\"\"\"\n",
    "\n",
    "        data_objects = experiment_data.data()\n",
    "\n",
    "        # Combine twirled results and perform state tomography\n",
    "        result = AnalysisResultData()\n",
    "\n",
    "        return result, []\n",
    "\n",
    "class TwirledStateTomography(TomographyExperiment):\n",
    "    \"\"\"State tomography with twirling.\"\"\"\n",
    "\n",
    "    def __init__(self,\n",
    "                 circuit: QuantumCircuit,\n",
    "                #  add your own arguments here...\n",
    "                 physical_qubits: Sequence[int] = None,\n",
    "                 measurement_indices: Sequence[int] = None,\n",
    "                 backend: Optional[Backend] = None):\n",
    "        \"\"\"Initialize the experiment.\"\"\"\n",
    "        if physical_qubits is None:\n",
    "            physical_qubits = tuple(range(circuit.num_qubits))\n",
    "        super().__init__(circuit=circuit,\n",
    "                        backend=backend,\n",
    "                        physical_qubits=physical_qubits,\n",
    "                        measurement_indices=measurement_indices,\n",
    "                        analysis=TwirledStateTomographyAnalysis(),\n",
    "                        )\n",
    "\n",
    "    def circuits(self) -> List[QuantumCircuit]:\n",
    "        \"\"\"Generate the list of circuits to be run.\"\"\"\n",
    "        circuits = []\n",
    "        # Generate circuits and populate metadata here\n",
    "\n",
    "        return circuits\n",
    "\n",
    "    @classmethod\n",
    "    def _default_experiment_options(cls) -> Options:\n",
    "        \"\"\"Set default experiment options here.\"\"\"\n",
    "        options = super()._default_experiment_options()\n",
    "        return options"
   ]
  },
  {
   "cell_type": "markdown",
   "metadata": {},
   "source": [
    "### Tehtävä 3 (8p)\n",
    "Alusta kubitti tilaan, jossa populaatiot ja koherenssit poikkeavat nollasta. Käytä jokaista alla listattua melukanavaa tähän kubittiin ja tee tilatomografia sekä pyöräyttäen kanavaa että ilman pyöräytystä. Piirrä kullekin melukanavalle samaan kuvaajaan $\\rho_{00}$, $\\rho_{11}$, $Re(\\rho_{01})$ ja $Im(\\rho_{01})$ sekä pyöräytetylle että pyöräyttämättömälle tapaukselle, eri $p$:n ja $\\theta$:n arvoille.   \n",
    "\n",
    "Melukanavat :\n",
    "- Bitinkääntö \n",
    "    - Paulin kanava arvoilla $(1-p, p, 0, 0)$.\n",
    "- Koherentti kierto \n",
    "    - Käytä RX-porttia pienellä kulmalla.\n",
    "- Amplitudinvaimennuskanava \n",
    "\n",
    "\n",
    "Voit käyttää näiden kanavien toteutuksia aiemmista projekteista tai hyödyntää `qiskit_aer.noise`:n melumalleja. "
   ]
  },
  {
   "cell_type": "code",
   "execution_count": null,
   "metadata": {},
   "outputs": [],
   "source": [
    "p_values = np.linspace(0, 1, 10)\n",
    "theta_values = np.linspace(-np.pi, np.pi, 10)\n",
    "\n"
   ]
  },
  {
   "cell_type": "markdown",
   "metadata": {},
   "source": [
    "### Tehtävä 4 (7p)\n",
    "Viimeisenä, käännetään tai vaimennetaan pyöräytetty melukanava, jotta saadaan tiheysmatriisi ilman melua. Pyöräyttämisen jälkeen melukanavan tulisi olla Paulin kanavan muodossa, joka on suhteellisen helppo kääntää, jos melukertoimet tunnetaan. Käännetty kanava ei välttämättä ole fysikaalinen, sillä kertoimet voivat olla negatiivisia. Menetelmä tavallisten melukanavien kääntämiseksi kuvaillaan tutkimuksessa [S. Mangini, et al. EPJ Quantum Technol. 9, 29 (2022)](https://doi.org/10.1140/epjqt/s40507-022-00151-0). \n",
    "\n",
    "Yleisen Paulin kanavan käänteiskanava kertoimilla $(p_{0}, p_{x}, p_{y}, p_{z})$ on \n",
    "$$\\begin{aligned} & \\Lambda^{-1}_{\\boldsymbol{p}}(\\Lambda) = \\beta _{0} \\Lambda + \\beta _{1} \\sigma _{x} {\\Lambda} \\sigma _{x} + \\beta _{2} \\sigma _{y} {\\Lambda} \\sigma _{y} + \\beta _{3} \\sigma _{z} {\\Lambda} \\sigma _{z}\\quad \\text{with} \\\\ & \\beta _{0} =\\frac{1}{4} \\biggl(1+\\frac{1}{1-2(p_{x}+p_{y})}+ \\frac{1}{1-2(p_{x}+p_{z})}+\\frac{1}{1-2(p_{y}+p_{z})} \\biggr), \\\\ & \\beta _{1} = \\frac{1}{4} \\biggl(1-\\frac{1}{1-2(p_{x}+p_{y})}- \\frac{1}{1-2(p_{x}+p_{z})}+\\frac{1}{1-2(p_{y}+p_{z})} \\biggr), \\\\ & \\beta _{2} = \\frac{1}{4} \\biggl(1-\\frac{1}{1-2(p_{x}+p_{y})}+ \\frac{1}{1-2(p_{x}+p_{z})}-\\frac{1}{1-2(p_{y}+p_{z})} \\biggr), \\\\ & \\beta _{3} = \\frac{1}{4} \\biggl(1+\\frac{1}{1-2(p_{x}+p_{y})}- \\frac{1}{1-2(p_{x}+p_{z})}-\\frac{1}{1-2(p_{y}+p_{z})} \\biggr) . \\end{aligned}$$\n",
    "\n",
    "Käyttäen tehtävän 1 pyöräytettyjen melukanavien kertoimia, käännä kaikki tehtävässä 3 löytämäsi tiheysmatriisit (jokaiselle $p$ ja $\\theta$ arvolle) ja vertaa termejä $\\rho_{00}$, $\\rho_{11}$, $Re(\\rho_{01})$ ja $Im(\\rho_{01})$ kääntämättömiin versioihin esimerkiksi kuvaajien avulla. \n",
    "\n",
    "Vihje: Kaavat yksinkertaistuvat huomattavasti, jos sijoitat niihin vakiot tehtävästä 1. "
   ]
  },
  {
   "cell_type": "code",
   "execution_count": null,
   "metadata": {},
   "outputs": [],
   "source": []
  }
 ],
 "metadata": {
  "kernelspec": {
   "display_name": "Python 3.8.5 64-bit ('base': conda)",
   "name": "python3"
  },
  "language_info": {
   "codemirror_mode": {
    "name": "ipython",
    "version": 3
   },
   "file_extension": ".py",
   "mimetype": "text/x-python",
   "name": "python",
   "nbconvert_exporter": "python",
   "pygments_lexer": "ipython3",
   "version": "3.11.9"
  }
 },
 "nbformat": 4,
 "nbformat_minor": 2
}
