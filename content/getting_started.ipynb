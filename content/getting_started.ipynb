{
 "cells": [
  {
   "cell_type": "markdown",
   "metadata": {},
   "source": [
    "# Aloitus\n",
    "Ennen uppoutumista materiaaleihin varmistetaan, että tekniikka toimii odotetusti. Haluamme, että `python` on asennettu oikein ja että myös `qiskit`, `numpy` ja `matplotlib` on asennettuina. "
   ]
  },
  {
   "cell_type": "markdown",
   "metadata": {},
   "source": [
    "Tietokoneelta täytyy siis löytyä pythonin versio, joka täyttää kaikki kurssin kooditehtävien vaatimukset, jotta näitä koodeja on mahdollista ajaa. \n",
    "\n",
    "Kun työskentelet pythonin kanssa, suosittelemme käyttämään esimerkiksi `miniconda` -ohjelmaa tarvittavien ohjelmistopakettien asentamiseen. Minicondalla voit luoda erillisiä python-ympäristöjä, joissa kaikissa voi olla eri versio pythonista ja erilaiset listat asennettuja paketteja. Näin voit välttää yleisen ongelman pakettien ristiriitaisista versioista, jos työstät samalla useampaa python-projektia. \n",
    "\n",
    "Asentaaksesi `miniconda`n, lataa asennusohjelma osoitteesta [https://docs.conda.io/projects/miniconda/en/latest/]() ja seuraa ohjeita sivun alareunasta. Linuxilla tai MacOS:lla voit suorittaa asennuksen suoraan komentotulkissa (terminal): \n",
    "\n",
    "```> sh Miniconda3-latest-Linux-x86_64.sh```\n",
    "\n",
    "ja seuraa asennusohjelman ohjeita. \n",
    "\n",
    "Kun `miniconda` on asennettu, voit käynnistää komentotulkin uudelleen ja `(base)`n pitäisi ilmestyä komentotulkin vasemmalle puolelle. Tämä kertoo, että tällä hetkellä aktiivinen `miniconda`-ympäristö on `(base)` \n",
    "\n",
    "Asentaaksesi kaikki kurssilla tarvittavat ohjelmat, olemme laatineet [`requirements.yml`](https://qplaylearn.github.io/oqs-jupyterbook/requirements.yml) -tiedoston, jota voit käyttää ympäristön luomiseen. Luodaksesi uuden `miniconda`-ympäristön, joka täyttää kaikki vaatimukset, aja: \n",
    "\n",
    "```> conda env create -f requirements.yaml```\n",
    "\n",
    "Tämän pitäisi luoda uusi ympäristö nimeltä `oqs-digiq`. Aktivoidaksesi sen, aja: \n",
    "\n",
    "```> conda activate oqs-digiq```\n",
    "\n",
    "Tämä täytyy tehdä aina, kun käynnistät komentotulkin uudelleen ja haluat vaihtaa tähän ympäristöön. Jos näet nyt tekstin `(oqs-digiq)` komentotulkin vasemmassa reunassa, voit jatkaa eteenpäin! "
   ]
  },
  {
   "cell_type": "markdown",
   "metadata": {},
   "source": [
    "Voit käyttää vapaasti mitä vain tekstieditoria, josta tykkäät (itse käytän [Visual Studio Codea](https://code.visualstudio.com/)), mutta palauta ratkaisusi joko Jupyter notebook -muodossa tai python (`.py`) -tiedostona. Jätä koodiisi kommentteja tarpeen tullen, jos palautat sen python-tiedostona ja kuvaile myös joko kommenteissa tai erillisessä teksti- tai pdf-tiedostossa, miten koodi ajetaan ja mihin tulosten pitäisi ilmestyä.  "
   ]
  },
  {
   "cell_type": "markdown",
   "metadata": {},
   "source": [
    "Hyvä paikka tutustua avointen kvanttisysteemien ja kvanttilaskennan perusteisiin on [Preliminaries-kappale](https://matteoacrossi.github.io/oqs-jupyterbook/preliminaries.html) kurssilta [Open Quantum Systems with Qiskit](https://matteoacrossi.github.io/oqs-jupyterbook/index.html). "
   ]
  },
  {
   "cell_type": "markdown",
   "metadata": {},
   "source": [
    "Tutustutaan ensin `numpyyn` ([API Reference](https://numpy.org/doc/1.23/reference/index.html)). Se on erittäin hyödyllinen python-kirjasto, jota voidaan käyttää kaikenlaisiin numeerisiin laskuihin, erityisesti matriisien ja taulukoiden kanssa. "
   ]
  },
  {
   "cell_type": "markdown",
   "metadata": {},
   "source": [
    "Python tukee listoja (`lists`), jotka ovat kooltaan dynaamisia, eli niihin voidaan lisätä tai niistä voidaan poistaa alkioita listan luomisen jälkeen. Toisaalta `numpy`-taulukot (arrays) ovat kiinteän kokoisia, mikä tarkoittaa, että jos halutaan muuttaa taulukon kokoa, on luotava uusi taulukko. Eräs syy `numpyn` nopeudelle on, että se pohjautuu C-kieleen. \n",
    "\n",
    "Vertaillaanpa nopeasti näitä."
   ]
  },
  {
   "cell_type": "code",
   "execution_count": 1,
   "metadata": {},
   "outputs": [],
   "source": [
    "python_list = [0,0,0,0]"
   ]
  },
  {
   "cell_type": "markdown",
   "metadata": {},
   "source": [
    "Kun lisäät python-listoja toisiinsa, ketjutat ne peräkkäin. "
   ]
  },
  {
   "cell_type": "code",
   "execution_count": 2,
   "metadata": {},
   "outputs": [
    {
     "data": {
      "text/plain": [
       "[0, 0, 0, 0, 0, 0, 0, 0]"
      ]
     },
     "execution_count": 2,
     "metadata": {},
     "output_type": "execute_result"
    }
   ],
   "source": [
    "python_list + python_list"
   ]
  },
  {
   "cell_type": "markdown",
   "metadata": {},
   "source": [
    "Vähennyslaskua listojen välillä ei tueta. "
   ]
  },
  {
   "cell_type": "code",
   "execution_count": 3,
   "metadata": {},
   "outputs": [
    {
     "ename": "TypeError",
     "evalue": "unsupported operand type(s) for -: 'list' and 'list'",
     "output_type": "error",
     "traceback": [
      "\u001b[0;31m---------------------------------------------------------------------------\u001b[0m",
      "\u001b[0;31mTypeError\u001b[0m                                 Traceback (most recent call last)",
      "Cell \u001b[0;32mIn[3], line 1\u001b[0m\n\u001b[0;32m----> 1\u001b[0m \u001b[43mpython_list\u001b[49m\u001b[43m \u001b[49m\u001b[38;5;241;43m-\u001b[39;49m\u001b[43m \u001b[49m\u001b[43mpython_list\u001b[49m\n",
      "\u001b[0;31mTypeError\u001b[0m: unsupported operand type(s) for -: 'list' and 'list'"
     ]
    }
   ],
   "source": [
    "python_list - python_list"
   ]
  },
  {
   "cell_type": "markdown",
   "metadata": {},
   "source": [
    "Voit liittää alkioita python-listaan. "
   ]
  },
  {
   "cell_type": "code",
   "execution_count": 4,
   "metadata": {},
   "outputs": [
    {
     "data": {
      "text/plain": [
       "[0, 0, 0, 0, 1]"
      ]
     },
     "execution_count": 4,
     "metadata": {},
     "output_type": "execute_result"
    }
   ],
   "source": [
    "python_list.append(1)\n",
    "python_list"
   ]
  },
  {
   "cell_type": "markdown",
   "metadata": {},
   "source": [
    "Listat voivat sisältää monen tyyppisiä objekteja, kuten sanakirjoja (dictionaries), minkä tahansa python-luokan alkioita tai vaikka toisia listoja. \n",
    "\n",
    "Nämä seuraavat python-työkalut ja -objektit voivat myös olla hyödyllisiä. "
   ]
  },
  {
   "cell_type": "code",
   "execution_count": 5,
   "metadata": {},
   "outputs": [
    {
     "name": "stdout",
     "output_type": "stream",
     "text": [
      "[2, 3, 4, 5, 6, 7, 8, 9]\n",
      "10\n",
      "{'a': 0, 'b': 5, 'c': 2, 'd': 5}\n",
      "Index 0, value 10\n",
      "Index 1, value 11\n",
      "Index 2, value 12\n",
      "Index 3, value 13\n"
     ]
    }
   ],
   "source": [
    "# List comprehension\n",
    "print([i for i in range(2,10)])\n",
    "\n",
    "# Dictionary\n",
    "result = {\"a\": 10, \"b\": 5, \"c\": 2}\n",
    "print(result[\"a\"])\n",
    "result.update({\"a\": 0, \"d\": 5})\n",
    "print(result)\n",
    "\n",
    "# Enumerate (index and value)\n",
    "for i, value in enumerate([10,11,12,13]):\n",
    "    print(f\"Index {i}, value {value}\")"
   ]
  },
  {
   "cell_type": "code",
   "execution_count": 6,
   "metadata": {},
   "outputs": [],
   "source": [
    "import numpy as np\n",
    "\n",
    "numpy_array = np.array([1,0,0,1])"
   ]
  },
  {
   "cell_type": "markdown",
   "metadata": {},
   "source": [
    "Yhteenlasku `numpylla` laskee taulukon alkiot yhteen. Vähennys, kertolasku ja jakolasku toimivat samaan tapaan. 
   ]
  },
  {
   "cell_type": "code",
   "execution_count": 7,
   "metadata": {},
   "outputs": [
    {
     "data": {
      "text/plain": [
       "array([2, 0, 0, 2])"
      ]
     },
     "execution_count": 7,
     "metadata": {},
     "output_type": "execute_result"
    }
   ],
   "source": [
    "numpy_array + numpy_array"
   ]
  },
  {
   "cell_type": "markdown",
   "metadata": {},
   "source": [
    "Multiplying two arrays in this way, performs element-wise multiplication."
   ]
  },
  {
   "cell_type": "code",
   "execution_count": 8,
   "metadata": {},
   "outputs": [
    {
     "data": {
      "text/plain": [
       "array([ 5, 20])"
      ]
     },
     "execution_count": 8,
     "metadata": {},
     "output_type": "execute_result"
    }
   ],
   "source": [
    "np.array([1, 2]) * np.array([5, 10])"
   ]
  },
  {
   "cell_type": "markdown",
   "metadata": {},
   "source": [
    "Multidimensional lists and arrays can be created using lists of lists."
   ]
  },
  {
   "cell_type": "code",
   "execution_count": 9,
   "metadata": {},
   "outputs": [
    {
     "data": {
      "text/plain": [
       "array([[1, 0, 0, 1],\n",
       "       [0, 0, 0, 1],\n",
       "       [0, 1, 0, 1],\n",
       "       [0, 0, 0, 0]])"
      ]
     },
     "execution_count": 9,
     "metadata": {},
     "output_type": "execute_result"
    }
   ],
   "source": [
    "numpy_array = np.array([[1,0,0,1], [0,0,0,1], [0,1,0,1], [0,0,0,0]])\n",
    "numpy_array"
   ]
  },
  {
   "cell_type": "markdown",
   "metadata": {},
   "source": [
    "With multidimensional arrays, you can easily perform linear algebra."
   ]
  },
  {
   "cell_type": "code",
   "execution_count": 10,
   "metadata": {},
   "outputs": [
    {
     "name": "stdout",
     "output_type": "stream",
     "text": [
      "[[1 0 0 1]\n",
      " [0 0 0 0]\n",
      " [0 0 0 1]\n",
      " [0 0 0 0]]\n",
      "[[1 0 0 1]\n",
      " [0 0 0 1]\n",
      " [0 1 0 1]\n",
      " [0 0 0 0]]\n",
      "1.9318516525781366\n",
      "1\n",
      "[[1.-1.j 0.-1.j]\n",
      " [0.+0.j 1.+1.j]]\n",
      "[[1.+1.j 0.-0.j]\n",
      " [0.+1.j 1.-1.j]]\n"
     ]
    }
   ],
   "source": [
    "# Matrix product\n",
    "print(numpy_array @ numpy_array)\n",
    "print(numpy_array * numpy_array)\n",
    "\n",
    "# Norm of matrix\n",
    "print(np.linalg.norm(numpy_array, ord=2))\n",
    "print(np.trace(numpy_array))\n",
    "\n",
    "# Conjugate transpose of matrix\n",
    "complex_array = np.array([[1-1j, 0-1j], [0+0j, 1+1j]])\n",
    "print(complex_array)\n",
    "print(complex_array.T.conj())"
   ]
  },
  {
   "cell_type": "markdown",
   "metadata": {},
   "source": [
    "There are also several useful features that `numpy` provides."
   ]
  },
  {
   "cell_type": "code",
   "execution_count": 11,
   "metadata": {},
   "outputs": [
    {
     "name": "stdout",
     "output_type": "stream",
     "text": [
      "[[1. 0. 0. 0. 0.]\n",
      " [0. 1. 0. 0. 0.]\n",
      " [0. 0. 1. 0. 0.]\n",
      " [0. 0. 0. 1. 0.]\n",
      " [0. 0. 0. 0. 1.]]\n",
      "[2 1 1 0 2 2 2 1 2 1]\n",
      "[[0 0 0 0 0 1 1 1 1 1]\n",
      " [2 2 2 2 2 3 3 3 3 3]]\n"
     ]
    }
   ],
   "source": [
    "# Identity matrix\n",
    "I = np.eye(5)\n",
    "print(I)\n",
    "\n",
    "# Random 2x2 matrix\n",
    "rand_matrix = np.random.choice([0,1,2], size=10, p=[0.1, 0.5, 0.4])\n",
    "print(rand_matrix)\n",
    "\n",
    "# Repeat 2x2 matrix\n",
    "tiled_matrix = np.repeat([[0,1],[2,3]], repeats=5, axis=1)\n",
    "print(tiled_matrix)"
   ]
  },
  {
   "cell_type": "markdown",
   "metadata": {},
   "source": [
    "`numpy` also provides a random number generator. To pick between `0` and `1` with a uniform distribution you can do the following."
   ]
  },
  {
   "cell_type": "code",
   "execution_count": 12,
   "metadata": {},
   "outputs": [
    {
     "data": {
      "text/plain": [
       "array([0, 0, 1, 0, 0, 0, 1, 1, 1, 0, 0, 1, 0, 0, 0, 1, 0, 1, 1, 0])"
      ]
     },
     "execution_count": 12,
     "metadata": {},
     "output_type": "execute_result"
    }
   ],
   "source": [
    "np.random.choice([0,1], size=20)"
   ]
  },
  {
   "cell_type": "markdown",
   "metadata": {},
   "source": [
    "`matplotlib` ([User Guide](https://matplotlib.org/stable/users/index)) is the most popular plotting library in python. You can do many different things with it and it can be quite flexible."
   ]
  },
  {
   "cell_type": "code",
   "execution_count": 13,
   "metadata": {},
   "outputs": [
    {
     "data": {
      "text/plain": [
       "<matplotlib.legend.Legend at 0x130f65a90>"
      ]
     },
     "execution_count": 13,
     "metadata": {},
     "output_type": "execute_result"
    },
    {
     "data": {
      "image/png": "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",
      "text/plain": [
       "<Figure size 576x288 with 1 Axes>"
      ]
     },
     "metadata": {
      "needs_background": "light"
     },
     "output_type": "display_data"
    }
   ],
   "source": [
    "import matplotlib.pyplot as plt\n",
    "\n",
    "# Generate 100 random values between 0 and 1.\n",
    "x = range(100)\n",
    "y = np.random.random(100)\n",
    "\n",
    "plt.figure(figsize=(8,4))\n",
    "\n",
    "# Plot the 100 random values\n",
    "plt.plot(x, y, label=\"Random signal\")\n",
    "\n",
    "# Error bars to 1 standard deviation\n",
    "error = np.std(y)\n",
    "plt.fill_between(x, y - error, y + error, alpha=.3)\n",
    "\n",
    "# Plot the average of the 100 values\n",
    "plt.axhline(np.mean(y), linestyle=\"--\", color=\"black\", label=\"Average\")\n",
    "plt.xlabel(\"Sample index\")\n",
    "plt.ylabel(\"Value\")\n",
    "plt.legend()"
   ]
  },
  {
   "cell_type": "markdown",
   "metadata": {},
   "source": [
    "Now we may start taking a look at `qiskit` ([Documentation](https://docs.quantum-computing.ibm.com/)). The `qiskit` library consists of many tools for quantum computing developed mainly by IBM. The library itself has become very large and contains all kinds of features such as the ability to create a quantum circuit, computing expectation values for quantum mechanical systems, simulating noisy quantum devices and so on. For the purposes of this introduction we will focus mainly on the things necessary for the remainder of the course, which will involve creating quantum circuits, running them on simulators or real devices and analysing their results."
   ]
  },
  {
   "cell_type": "markdown",
   "metadata": {},
   "source": [
    "We will not dive too deep into the theory of quantum computing, but let us cover the essentials.\n",
    "\n",
    "A quantum computer consists of qubits, a two-level quantum system. On IBM devices they are implemented using superconductors, however there are other realisations of qubits. A qubit exhibits the properties of a quantum system, meaning it can be in superposition, entangled to other qubits and so on. In practice it is difficult to isolate a quantum computer from its envionment completely, which means that qubits will interact with the environment in some way. In quantum computing we consider these interacations as noise or errors as the quantum computer starts to behave in a way we wouldn't expect or want.\n",
    "\n",
    "In the framework of quantum computing, we use a set of operators or gates that can be applied to one or many qubits. Some common ones are the Pauli matrices (X, Y, Z) and the CNOT gate, which performs a Pauli X on a qubit based on the state of another. The CNOT gate entangles two qubits. We will cover more of these later in the course."
   ]
  },
  {
   "cell_type": "markdown",
   "metadata": {},
   "source": [
    "Let us first create a quantum circuit where we apply the Pauli X on all qubits. In a quantum circuit we assume that all qubits are initialised in the $|0\\rangle$ state. The action of the Pauli X on this state is to flip it to the $|1\\rangle$ state."
   ]
  },
  {
   "cell_type": "code",
   "execution_count": 14,
   "metadata": {},
   "outputs": [
    {
     "data": {
      "image/png": "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",
      "text/plain": [
       "<Figure size 146.797x325.08 with 1 Axes>"
      ]
     },
     "execution_count": 14,
     "metadata": {},
     "output_type": "execute_result"
    }
   ],
   "source": [
    "from qiskit import QuantumCircuit\n",
    "\n",
    "qc = QuantumCircuit(5)\n",
    "qc.x([q for q in range(qc.num_qubits)])\n",
    "qc.draw(output='mpl')"
   ]
  },
  {
   "cell_type": "markdown",
   "metadata": {},
   "source": [
    "We can investigate the statevectors of circuits directly. For clarity, let us do this on a single qubit circuit."
   ]
  },
  {
   "cell_type": "code",
   "execution_count": 15,
   "metadata": {},
   "outputs": [
    {
     "name": "stdout",
     "output_type": "stream",
     "text": [
      "Statevector([1.+0.j, 0.+0.j],\n",
      "            dims=(2,))\n",
      "Statevector([0.+0.j, 1.+0.j],\n",
      "            dims=(2,))\n",
      "Statevector([ 0.70710678+0.j, -0.70710678+0.j],\n",
      "            dims=(2,))\n"
     ]
    }
   ],
   "source": [
    "from qiskit.quantum_info import Statevector\n",
    "\n",
    "qc = QuantumCircuit(1)\n",
    "sv = Statevector(qc)\n",
    "print(sv)\n",
    "\n",
    "qc.x(0)\n",
    "sv = Statevector(qc)\n",
    "print(sv)\n",
    "\n",
    "qc.h(0)\n",
    "sv = Statevector(qc)\n",
    "print(sv)"
   ]
  },
  {
   "cell_type": "markdown",
   "metadata": {},
   "source": [
    "Now let us run a circuit on a simulator. There are a few simulators we can pick from, even ones that simulator noise models based on noise that appears on IBM's real quantum devices. One can even make their own noise model. But for now, let us assume that the quantum computer is noiseless and we perform an ideal simulation of the quantum circuit."
   ]
  },
  {
   "cell_type": "code",
   "execution_count": 16,
   "metadata": {},
   "outputs": [
    {
     "data": {
      "text/plain": [
       "[AerSimulator('aer_simulator'),\n",
       " AerSimulator('aer_simulator_statevector'),\n",
       " AerSimulator('aer_simulator_density_matrix'),\n",
       " AerSimulator('aer_simulator_stabilizer'),\n",
       " AerSimulator('aer_simulator_matrix_product_state'),\n",
       " AerSimulator('aer_simulator_extended_stabilizer'),\n",
       " AerSimulator('aer_simulator_unitary'),\n",
       " AerSimulator('aer_simulator_superop'),\n",
       " QasmSimulator('qasm_simulator'),\n",
       " StatevectorSimulator('statevector_simulator'),\n",
       " UnitarySimulator('unitary_simulator')]"
      ]
     },
     "execution_count": 16,
     "metadata": {},
     "output_type": "execute_result"
    }
   ],
   "source": [
    "from qiskit_aer import AerProvider\n",
    "\n",
    "AerProvider().backends()"
   ]
  },
  {
   "cell_type": "markdown",
   "metadata": {},
   "source": [
    "Let us pick `aer_simulator`, which performs a noiseless statevector simulation, however simulates so-called shot noise. Shot noise arises due to the fact that "
   ]
  },
  {
   "cell_type": "code",
   "execution_count": 17,
   "metadata": {},
   "outputs": [],
   "source": [
    "backend = AerProvider().get_backend('aer_simulator')"
   ]
  },
  {
   "cell_type": "markdown",
   "metadata": {},
   "source": [
    "The simulator can also be created directly in the following way."
   ]
  },
  {
   "cell_type": "code",
   "execution_count": 18,
   "metadata": {},
   "outputs": [],
   "source": [
    "from qiskit_aer import AerSimulator\n",
    "\n",
    "backend = AerSimulator()"
   ]
  },
  {
   "cell_type": "markdown",
   "metadata": {},
   "source": [
    "When creating circuits, one should usually take the hardware layout and qubit connectivity of the device into account. The simulator however, has full connectivity (all qubits can perform a cnot between each other) and the limit for the number of qubits is often determined by your computer. Let us create a simple 5-qubit quantum circuit, with a little bit of entanglement."
   ]
  },
  {
   "cell_type": "code",
   "execution_count": 20,
   "metadata": {},
   "outputs": [
    {
     "data": {
      "image/png": "iVBORw0KGgoAAAANSUhEUgAAAloAAAExCAYAAACkgAzuAAAAOXRFWHRTb2Z0d2FyZQBNYXRwbG90bGliIHZlcnNpb24zLjguMywgaHR0cHM6Ly9tYXRwbG90bGliLm9yZy/H5lhTAAAACXBIWXMAAAsTAAALEwEAmpwYAAA/AUlEQVR4nO3deUBU5cIG8GeGHVEQUAFRERURFFncN0Q0RdxQ0Wy5pJCmdiu9LWpJmvdSmlJZXTdyqy8rEGxxL5RUXCBUUETEhSVNQUUR2We+P7hOjgIzOnPmDMzz+2s45513HgrhmXPec0Yil8vlICIiIiKtk4odgIiIiKipYtEiIiIiEgiLFhEREZFAWLSIiIiIBMKiRURERCQQFi0iIiIigbBoEREREQmERYuIiIhIICxaRERERAJh0SIiIiISCIsWERERkUBYtIiIiIgEwqJFREREJBAWLSIiIiKBsGgRERERCYRFi4iIiEggLFpEREREAmHRIiIiIhIIixYRERGRQFi0iIiIiARiLHYAIiJ9lpKSonLM+vXrMXPmzAbH9O7dW1uRiKgR4REtIiINxcTEiB2BiPQUixYRERGRQFi0iIiIiATCokVEpKEtW7aIHYGI9BSLFhEREZFAWLSIiDQUFhYmdgQi0lO8vYOIji/ehFtnL4vy2raeHdF32XRRXpuItCMtLQ3FxcU6f10bGxv4+vrq/HWJGiMWLRHdOnsZ149mih2DiBqp4uJiFBYWih2DiBrAU4dERBqKiIgQOwIR6SkWLSIiDam6KzwRGS4WLSIiDY0ePVrsCESkp7hGS8+N2r4UrfzcIKuuhrxGhnt5N3D6s3jk/nJU7GhE9D9FRUViRyAiPcWi1Qic/jQO6Z9uh8RIim4zguD/39eRcOYySq78JXY0IiIiagBPHTYi8hoZsr/5FVITY9h6uogdh4j+x93dXewIgpHL5WJHIGrUeESrEZGaGKNr2EgAwN1L10ROQ0QPbN26VewIKsnlcly+fBk5OTnIz89HRUUFjI2N4eTkBFdXV7i5ucHYWPlPgkwmQ0xMDOzs7DBp0iSRkhM1bixajYDXaxPR/ZVxMLYyh7yqBkfm/xe3z+UCAJq7OMB/3TzsGvMuZFXV8Jw9DiZWFjj18fcipyYyHFFRUVi0aJHYMepUXV2NxMRE7N27F3/++We942xsbBAYGIjRo0ejWbNmipKVmJgIExMTDB48GK1bt9ZhcqKmwSCLlkwmQ3R0NNatW4f8/Hx07doVq1evxsyZM+Hv74/169eLHVFJ+up4pH+6HabWzTAweg4cBnbHhW2JAICSK38hd+dx9PhnCC7GJqHjhIHYNfZdkRMr+/N6KdbGZuH7vZdw914lXJyaY+Zkd0wLcoWFuUH+CFITs2PHDr0sWnl5eVizZg0uX679BAobGxt0794dHTt2RLNmzVBRUYH8/HxkZmbi6tWr2L59OxITE/Hyyy8jNTVVUbLefvttliyip2SQf+XCw8MRHx+PxYsXw8/PD8nJyZg2bRoKCwsxf/58sePVq/JOKY78aw0mHf0C7Ub2Rv7eFADAmf/+iOCf/wPnYT44EbkZsspqkZP+7dAffyF47j6U3K9SbCu8XYHjGYfwxbZM7F8/CnY25iImJGqaMjIysHLlSlRUVMDe3h7PP/88evfu/djpQaD2tOK5c+ewbds2XLhwAStWrAAARcnq0aOHruMTNRkGtxh+27Zt2Lx5M3766Se8+eabCAgIwLvvvov+/fujurpa7z+/q7L4Hs6u/wW+C58DJBIAgLy6Bn8dy4SpdTPcOH5O5IR/K7xVhuBX96G0vEppu0xWu7j21PmbeGHhQRGSETVtly9fVpSsgQMH4uOPP0b//v3rLFkAIJFI4OHhgffffx+urq6K7UFBQSxZRBoyuKIVFRWFUaNGwd/fX2l7586dYWJiAi8vLwDAlStX4O/vDzc3N/To0QOHDh0SI26dzm3YCcvWNugcWvs92Lg5o01vd1w9lAG3F4aLnO5vG3dko6S0CjJZ3fvlcmDPkT9x7lKxTnMRadvOnTvFjqBQVVWFL7/8EhUVFRg8eDDmzp0LCwsLlc+TyWTYuHEjLl26BCMjIwDA/v37eY8wIg0Z1KnDgoICnDlzBvPmzXtsX15eHjw9PWFmZgYAmDVrFqZOnYo5c+YgOTkZoaGhuHz5MkxNTVW+juR/R5pUecd2CNxNWzU4Zs+k9x/bVnWvDNs8pj94MfRfMQvHFsXgzsWrCP75P8jbk4LyojsNzpuUlITRauZ8ap0WARYdFUfe6uPR7zmgcLewWYiekjqfY5ibm4sOHTo0OKZPnz7aiqQQGRkJDw8PpW27du1CQUEBHBwcEBERAalU9fvpRxe+v/3229i3bx9SUlKwdevWx5ZUJCUlITAwUKvfC1Fjo+6tTwzqiFZBQQEAwMHBQWl7WVkZkpKSFKcNi4qKcPjwYYSHhwMABgwYACcnJxw4cEC3gdXgHjYSN9Mv4mb6JVSXluPkiu/Q54PpYseqJTVTWbIglwNS1eWVSJ/t379f7AgAgJqaGuzduxcA8NJLLyneODakrpLVo0cPTJ8+HUZGRkhJSeFRLSINGNQRLXt7ewBAdna20meTrVixAteuXYOfnx+A2qNbbdq0Ufol1bFjR+Tm5qr1Ouq23N0TI3H9aKa68euUtXmP0td5e1KQtydF5fP8/f3xUXySRq+tyqR5v2LHgTzFmqw6SSTYvO5jhI3fIWgWoqeVkqL631NMTIzKD5besGGDtiIpJCYmorCwUPH12bNncevWLTg4OCiWQTSkvpIFALa2tujbty+Sk5Nx6NAhhISEKJ7n7+/PG5kSqcmgiparqyu8vLwQFRUFW1tbtG3bFnFxcdi1axcAKIoWacfLk9wR/1vD5bRFMxOEPtNRR4mImrYLFy4AqP1dpuqUYUMl6wFfX18kJycjJydHsMxETZ1BnTqUSqWIjY2Fp6cnZs+ejenTp8Pe3h5z586FkZGR4h1g+/btcf36dVRUVCiee/nyZZVrMEjZMwPaYuzQ9g2OWfmvPrC0MKi+T03QwoULxY4AAIqj7h07NvzmRZ2S9fA86h7NJ6LHGVTRAgA3NzccOHAApaWlyMvLw7Jly5CRkQEPDw/FlTn29vYYOHAgvvrqKwBAcnIy/vzzTwQEBIgZvdGRSiWIXTkMs0LdYWKs/KNmZ2OGjR8MxsuTm+5nxJHhePi0mpjatWsHb29vODo6Njju+++/V1myAKBly5bo2bNnk/4sRyKh8VACgNTUVPTr109p29q1a/HSSy/h008/hampKbZt26bWFYekzMzUCGsXD8QHc3zRJuBbAED8J4EIHtIOpiZGIqcj0o4+ffrgxIkTYsdAaGioWuMCAgJw4sQJzJgxo8H7ZFlaWurN0Tqixsrgi9a9e/eQnZ2NOXPmKG13dXXF77//LlIq1SwdbNF9zjiciNwMAPCYOQYdgvti9/jF4garR2u7v+/jExLoIl4QIoKDgwNWrlypuF8WEQnH4IuWlZUVampqxI7xxJyGeOFqUjoAQGpqDFtPF3EDEVGjwpJFpBsGX7QaA4f+ngjY+BZuZ+bCqn1r3DpzBRXFJTj+7kYAQJdpgcj54SB83p4qclIiwzRo0CCxIxCRnjK4xfCN0V/HMlF0Kgd7Jr2Pv45m4tjCDTC2NEf1/XJIjI3gMMATfx05I3ZMIoMVHR0tdgQi0lMsWo1A8w5tUJJ7HQDQzMkO5nYtcDvzCgCg02R/XE7Qn89hJDJEj35EDRHRAyxajYBN13YoPp8PiVQKuUwOx4fWZ1l3ckLXsJEY8e27sHFrB/cZQSKnJTI8hw8fFjsCEekprtFqBGy6tkNh6nlIzYxhYd8CTkO8cHbtzwCAP/7zjWJc0I/LkLWRH85MRESkL1i0GoGM1fGKxz8O+xdcxvav/TDmR+jrrR2IiIgMFU8dNkJXfj4qdgQieog+3KyUiPQTj2iJyNZTvA9TFvO1iZqahIQEUT6Gx8bG5omfcyn/GgDAtZ2j0mOhX5fIULFoiajvsuliRyAiLfjwww9FKVq+vr5P/Jx9y9cDACLChik9JiJh8NQhERERkUBYtIiIiIgEwqJFRKShVatWiR2BiPQUixYRkYbc3d3FjkBEeopFi4hIQ8HBwWJHICI9xaJFREREJBAWLSIiDfn4+IgdgYj0FIsWEZGGTp48KXYEItJTLFpEREREAmHRIiIiIhIIixYRkYa2bNkidgQi0lMsWkREREQCYdEiItJQWFiY2BGISE8Zix2AiIgMR1paGoqLi0V5bRsbG/j6+ory2mS4WLSIiEhniouLUVhYKHYMIp3hqUMiIg1FRESIHYGI9BSLFhGRhmbOnCl2BCLSUyxaJKjKqhoc+uMvfPL1GcW2eSuOYdOObGRevC1iMiLtGT16tNgRiEhPcY0WCeLWnQp8+s0ZbNh+Hn8VlSnt+/Sbs4rHfh72+Oc0D7w4tjOkUomuYxJpRVFRkdgRiEhP8YgWad1PB3LhGbIdy9adeqxkPeqPzCK8tPh3DJ2xEzl5d3WUkIiISDdYtEirVm7OwPjXf1VZsB51KO06ek/7EcfTbwiUjEg47u7uYkcgIj3FokVaE7P9PN6KPvHUzy8uqcSo2XuRfeWOFlMRCW/r1q1iR2jy7t27h/z8fOTn5+Pu3YaPfldXVyM5OVlHyYgaxjVapBUX8+/i9eXHGhwjTw8HAEi8vqp3THFJJV5a/DsObQ6GkRHfB1DjEBUVhUWLFokdo8m5dOkSfv31V5w5cwY3bigf7ba1tUW3bt0wfPhwuLu7QyKpXeNZXV2Nzz77DCkpKSgqKsK4cePEiE6kYLB/yWQyGVauXIkuXbrA3NwcPXv2RFJSErp27cpLtZ/CPz88ivvl1VqZ6+jpG9iw/bxW5tKETCbHvuQCfPr1Gaz5/hwuF5SIHYn01I4dO8SO0KQUFhYqymtiYiJu3LgBExMTODk5wdnZGebm5rh16xaOHDmCpUuXYvHixSgoKFAqWc2aNUOPHj3E/laIDPeIVnh4OOLj47F48WL4+fkhOTkZ06ZNQ2FhIebPny92vEbl/OVi7D5coNU5V3+biVmhf79L1bU9hwswa9lh5F0rVWyTSIDxAR3w1dLBsLU2EyUXUVOXkpKCL7/8EuXl5bC0tMTQoUMxePBgtG/fHkZGRgBq3yhfvXoVycnJ+O2335CTk4N33nkHzs7OyM3NRbNmzfDee++hY8eOIn83RAZatLZt24bNmzfj4MGD8Pf3BwAEBAQgLS0N8fHx/CysJ7Tlpxytz3nuUjFOZBSir1drrc+tyv6jf2LMP/dBLpMrbZfLgR8P5OJyQQmObB2DZpYmOs9G1JSdOHECn3zyCeRyOfr06YPw8HBYW1s/Nk4qlcLZ2RlTpkzBmDFjsHXrVhw8eBC5ubkwNTVlySK9YpCnDqOiojBq1ChFyXqgc+fOMDExgZeXFwAgMjISbm5ukEqliIuLEyNqo3BMoCsFhZq3IXK5HK99eBRymRyP9Kz/7QdOZ9/Cph8v6Dwb6a+dO3eKHaHRu3btGr744gvI5XJMmDAB8+bNq7NkPcrU1BSlpX8fea6srER1tXaWMRBpg8EVrYKCApw5cwahoaGP7cvLy4OnpyfMzGpPC40aNQp79uzBkCFDdB2zUTl1/qZA894SZN6GHD19A1lX7tRZsh6QSoA1P5zTXSjSe1lZWWJHaNTkcjnWrVuHyspKDBgwAFOnTlVr2cCja7IGDx4MAFizZg2qqqqEjk2kFoM7dVhQULuWyMHBQWl7WVkZkpKSEBQUpNg2YMCAp3oNsdYViab7OkBipPjywdWF9alv/6NXI27e+j02/9u/zrGCsekPtGs4v0wOZF4oNLz/zwZKnQ+MjomJUTmuT58+2oqkkXc+Wgeg9vfUw491JTIyEh4eHkrbzp49i6ysLFhbW2PGjBlPVbLee+89tG3bFhcvXsTVq1dx9OjRx94kJyUlITAwUKvfDxkuubyBd+QPMbgjWvb29gCA7Oxspe0rVqzAtWvX4OfnJ0asxk0uE2jeGmHmbYisUrvjiEilffv2AQCeeeYZWFlZqRxfV8nq2LEjTE1NMWbMGADA/v37Bc1MpC6DO6Ll6uoKLy8vREVFwdbWFm3btkVcXBx27doFAFopWuq23KbCM2Q7Mi8WK76u7z5Z6txH62EL/xWBqNfXapzvSRTfrYBj4DaUV9Rf8qQSYHqoD2KWGtb/Z0OVkpKickxMTIzK28Js2LBBW5E0smD5egC1v6cefqwriYmJKCwsVHwtk8mQkZEBAI+tm61LfSXrgQEDBmDjxo24cOEC7t+/D0tLS8U+f39/g/v9TOIzuCNaUqkUsbGx8PT0xOzZszF9+nTY29tj7ty5MDIyUiyEJ/X5dbMXZl4PO0HmbYhNCzPMnNS13v0SCSCRSvDP5zzqHUOGZ+HChWJHaLT++usvlJWVoWXLloozDvVRVbIAwNzcHB06dAAAXL58WbDcROoyuKIFAG5ubjhw4ABKS0uRl5eHZcuWISMjAx4eHrCwsBA7XqMzdmh7rc9pYWaEYX2dtD6vOlbM74PgIe0AAFLp32tFJBLASCrBN1H+6NlV9yWQ9FdISIjYERqtmzdrL6Zxcmr437s6JesBR0dHAEBRUZF2wxI9BYMsWnVJTU197LTh4sWL4ezsjKNHj2LWrFlwdnbGxYsXRUqovyYEdIBjK0vVA5/Ac6M7oWULcW4KamZqhB8/G47t0YEY1sdRsf2f0zxwJn4ing3qJEou0l/6stC9MXJzc0N0dDRmzZrV4Lg7d+7g0qVLat2M9Nlnn0V0dDR69+6t7bhET8zg1mjV5d69e8jOzsacOXOUti9btgzLli0TKVXjYWIixdLZPpj5wRGtzNfMwhiLXu6plbmelpGRFBOHu2DicBfFmrLPFvQXNRNRU2RmZqbyaBYA2NnZYfHixSgrK1N5M1JVpyCJdIlFC4CVlRVqakS4wq0JiZjUFXG/XsG+5D81nmv5vN5wdW6hhVRE1JQ8elseosaApw5JKyQSCb79aCi6d25Z/xivr1RecfhKqDvmTO2m7XhEgho0aJDYEYhIT7FokdbY2ZjjwFejEdDbUfXgR0gkwKKInvjy3QG8ESg1OtHR0WJHICI9xaJFWmXf0hy/bgjC5wv7w9ZavcXsPbq0xOEtY/Cf13opXeVH1FjMnz9f7AhEpKe4Rou0TiqV4NVpHggPccMPey8jIfEK/si8iYLrpYr9Hq426NOjFcLGdsZgPwcexaJG7fDhw2JHICI9xaJFgrEwN0bY+C4IG98FAFBWXo3KKhkszY1hYsKDqURE1PSxaJHOWJgbw8Jc7BRERES6w8MKREQaOnHihNgRiEhP8YgWEZGGEhIS+DE8arKxsXmq513KvwYAcG3nqPRYF69NpAkWLSIiDX344YcsWmry9fV9quftW74eABARNkzpMZG+46lDIiIiIoGwaBEREREJhEWLiEhDq1atEjsCEekpFi0iIg25u7uLHYGI9BSLFhGRhoKDg8WOQER6ikWLiIiISCAsWkREGvLx8RE7AhHpKRYtIiINnTx5UuwIRKSnWLSIiIiIBMKiRURERCQQFi0iIg1t2bJF7AhEpKdYtIiIiIgEwqJFRKShsLAwsSMQkZ4yFjsAERGRvktLS0NxcbHOX9fGxga+vr46f13SHhYtIiIiFYqLi1FYWCh2DGqEeOqQiEhDERERYkcgIj3FokVEpKGZM2eKHYGI9BSLFlEDbtwsUzwuK68WMQnps9GjR4sdgYj0FNdoET1EJpNj75ECfJWQjeTTN3Ct8L5iX/P+W+HZqSWCBjlj1mR3dHRuLmJS0idFRUViRyAiPcWiRfQ/yaeuI/z9Q8i6fKfO/TU1cqRn30J69i2s2JSO6RPcEP1mX1g3N9VxUiIiaix46pAMnlwux5L/pmFQ2C/1lqzHnwNsTMhG94nx+COTRzMMnbu7u9gRiEhPsWiRQZPL5XjnkxQsXXsScvmTP7/geimGhe9i2TJwW7duFTsCNQHV1VwH2hTx1CEZtB/2XsbHmzMaHCNPDwcASLy+qnP/3dIqhLzxK87ET0QLK55GNERRUVFYtGiR2DFIT1RUVOD06dO4ePEiCgoKUFlZCVNTUzg7O8PV1RU9e/aEubm50nPKy8vx0UcfoUePHpg0aZJIyUkIBlu0ZDIZoqOjsW7dOuTn56Nr165YvXo1Zs6cCX9/f6xfv17siCSwGzfLMDcqWStz5f9VireiT2Bd5CCtzKcNcrkcEolE7BgGYceOHSxahJKSEiQkJODgwYO4f//+Y/v/+OMPAIClpSX8/f0REhKCFi1aKEpWVlYWbty4gZEjR8LKykrX8UkgBlu0wsPDER8fj8WLF8PPzw/JycmYNm0aCgsLMX/+fLHjkQ58+d053Cyu0Np8MfHZeG+mN9o5iPcL8nj6DXz2f2ex40AuKipq0Kl9C8ye0g0vT+oKK0sT0XIRNXWpqanYsGED7typXefZqVMneHl5oUOHDrCwsEBZWRlyc3ORkZGBnJwc7N69G8nJyfjHP/6B/fv3IysrC7a2toiMjGTJamIMsmht27YNmzdvxsGDB+Hv7w8ACAgIQFpaGuLj4/m5UgagqkqG9duztDqnTCbH+rjzWPaqn1bnVddX8ecxc+lhQALIZLXbcvLuYv7Hx7Hlxws4sHE0WrYwEyUbUVO2d+9ebNq0CQDQrVs3/OMf/0DHjh0fG9evXz9MnToVly9fxtatW3Hu3Dl8/vnnAKAoWQ4ODjrNTsIzyMXwUVFRGDVqlKJkPdC5c2eYmJjAy8sLt2/fxpgxY+Dm5oaePXvimWeeQU5OjkiJSdvSL9zCX0Vlqgc+oT1HCrQ+pzpOn7+JmUsPQyb/u2QBUCzwT79wCy8vOSxKNkOwc+dOsSOQSI4dO6YoWc8++ywWL15cZ8l6WMeOHfHWW2+hVatWim1jxoxhyWqiDK5oFRQU4MyZMwgNDX1sX15eHjw9PWFmZgaJRII33ngD2dnZOH36NMaMGYPp06eLkJiEINRVgunZt1BZVSPI3A35Yltmg/vlciDhtyvIu3ZPR4kMS1aWdo+OUuNQXFyMmJgYAMDzzz+PCRMmQCpV/We1vLwcK1asQGFhISwtLQEA27dvx+3btwXNS+IwuFOHBQW1RxwefedQVlaGpKQkBAUFAQBsbGwwfPhwxf4BAwZgxYoVar0GFyA3Am1CgNbBSpseXF1Yn/r2P3w1YmWVDGbNWgNVtzTP+CTcVwImNg0OkcmBDp5BwG0e2XoS6nxgdExMjMpxffr00VYkjbzz0ToAtb+nHn6s78TOHRkZCQ8PD6Vt3333He7du4eePXtizJgxas3z8MJ3W1tbLF68GJs3b8bp06fx3XffYfbs2Urjk5KSEBgYqLXvg7RHruY9gQzuiJa9vT0AIDs7W2n7ihUrcO3aNfj51b2+5tNPP8WECROEjke6IhHyR1+Ef1YSNd8zqTuOiBpUUlKCI0eOAABeeukltUrfoyUrMjISjo6OmD59OiQSCZKTk1FSUiJ0dNIxg/ut6+rqCi8vL0RFRcHW1hZt27ZFXFwcdu3aBQB1Fq2lS5ciJycHiYmJar2Gui2XxLNiYzre+TRFaVt998lSdR+tRxXf/FPnH8sTMGMnfk+7Dpms4Z+9pL3fYkgvRx2lahpSUlJUjomJicHMmTMbHLNhwwZtRdLIguW1t66Ry+VKj/Wd2LkTExNRWFio+Pr48eOoqqpCz5494eio+t9UXSXrwZkVBwcH9OzZE6dOncKxY8cwYsQIxfP8/f0bxf8fqp/BHdGSSqWIjY2Fp6cnZs+ejenTp8Pe3h5z586FkZERvLy8lMb/+9//xi+//II9e/YozqVT4+fTzU6QeV2dm4vy2Yezp3ZrsGRJpYC7izUG+3GxrRAWLlwodgTSsYsXLwIAevbsqXJsQyXrgQfzPJiXmg6DO6IFAG5ubjhw4IDSthdffBEeHh6wsLBQbFu6dCl27dqF/fv3w8bGRscpSUi9PO1hYixFVbVM9eAnMMC7tVbnU9fEQBeMGdIOv/ye/9g+qVQCYyMJ1kUObBRrcRqjkJAQsSOQjuXn1/5bU3WFoTolCwBcXFwA1F6URU2LwR3Rqk9qaqrSacOzZ89iyZIluHnzJoYOHQpvb294e3uLF5C0qmULM0we4aL1eV+e2FXrc6rD2FiKuOhAzHvRE5bmyu+fvLva4rcNQTxlKCB9WehOuuPj44OhQ4cq3aKhLuvXr1dZsgCgdevWGDp0aL3rhKnxMsgjWo+6d+8esrOzMWfOHMU2T09Pnhdv4l5/3hPbdl/S2ny+3exEPTVnZmqE6Lf6YekcX7To/zUAIO378fDpZi9aJqKmSt3PI5wyZQoKCwsxd+7cBu+TZWdnh1deeUVb8UiPsGgBsLKyQk2N7u99ROLq69Uac5/thi+/O6fxXMZGEsQsGaQXp+aaN/t7jRhLFpG4HBwc8MEHH+jF7wYSB4sWGbSP3uiNwyev4/T5+u97pc7Vhh+90ZulxoANGqQ/HyZO+ocly7BxjRYZNCtLE+xbOwre7rZPPcfSOb74V1gPLaaixiY6OlrsCESkp1i0yOC1trPA4c1j8NpzHqoHP8SxlQV+Wj0Cka/4CJSMGov58+eLHYGI9BSLFhGAZpYm+GxBf6RsG4cXx3SGqUn9/zRcnKzw0Ru9cDZhEsYOba/DlKSvDh/mxxoRUd24RovoIb08W2FrlD++WNQfJ7NuIu3cTdy+WwEjqQQd2zaHn4c93Dtaw8iI71GIiEg1Fi2iOrSwMoV/L0f4895TRESkAb4tJyLS0IkTJ8SOQER6ikWLiEhDCQkJYkcgIj3FU4dERBr68MMP+XmHTdzTfN7tpfxrAADXdo5Kj4V+XdIvLFpEREQq+Pr6PvFz9i1fDwCICBum9JgMC08dEhEREQmERYuISEOrVq0SOwIR6SkWLSIiDbm7u4sdgYj0FIsWEZGGgoODxY5ARHqKRYuIiIhIICxaRERERAJh0SIi0pCPj4/YEYhIT7FoERFp6OTJk2JHICI9xaJFREREJBAWLSIiIiKBsGgREWloy5YtYkcgIj3FokVEREQkEBYtIiINhYWFiR2BiPSUsdgBiIiISPvS0tJQXFwsymvb2NjA19dXlNfWNyxaRERETVBxcTEKCwvFjmHweOqQiEhDERERYkcgIj3FokVEpKGZM2eKHYGI9BRPHRI1ETdulmH/sT+RerZIse35BQfh3dUW/Xu2xgDvNpBKJSImbLpGjx6NXbt2iR2DiPQQixZRI3fuUjH+vf4UYvddRlW1TGnft7su4ttdFwEAbh2s8drzHpg12R3GxjyYrU1FRUWqBxGRQeJvW6JGSiaTY/nG0/AOTcC3uy4+VrIelZ17B69GHcXAf/yCrMvFuglJRGTgWLSIGqGaGhnC3kvCgk9TUVnVcMF61Ikzhej/ws84kcGrkbTF3d1d7AhEpKdYtIgaofkfH8c3v1x86ucXl1Ri1Ow9uFRwV4upDNfWrVvFjkCkFdXV1cjNzUV6ejoyMjJQUFAAmaz+N3N3797F/v37dZiw8eEaLaJG5tdjf2L1t5kNjpGnhwMAJF5f1Tvm9t1KzIg8hMSY0Vwkr6GoqCgsWrRI7BhET6W6uhonTpzAb7/9huzsbFRVVSntNzMzQ7du3TBixAj4+PhAKq09RnP37l38+9//Rl5eHuRyOZ555hkx4us9gz2iJZPJsHLlSnTp0gXm5ubo2bMnkpKS0LVrV16qTXpLJpNjzn+StTZfUupf2Lb76Y+Macudkkqsi83C29En8MHak0jPviV2pCeyY8cOsSMQPZVz587hzTffxOrVq3H27FlUVVWhTZs28PT0hKenJ+zt7VFRUYFTp07h448/xsKFC3HlyhWlkuXk5IQ+ffqI/a3oLYM9ohUeHo74+HgsXrwYfn5+SE5OxrRp01BYWIj58+eLHY+oTvuS/8SFXO2e7vtiWyaeD+6s1TmfxCdfn8Gi1akor6iBRALI5cD7/03D8H5O+G5FAOxszEXLRtRUyeVyJCQkIDY2FnK5HI6OjggKCsKAAQNgZWWlNLa4uBiHDh3C3r17kZubi0WLFsHa2hq3b9+Gk5MTIiMjYWNjI8430ggYZNHatm0bNm/ejIMHD8Lf3x8AEBAQgLS0NMTHx/PzmUhvbf35gtbnPJZeiAu5d9Clg7XW51bli22ZmP/xccXXcvnf+347fhUjZu5B8tdjYG5mkL+qiASzfft2xMXFQSKRYOLEiZg4cSKMjev+d2ZjY4OxY8dixIgR2Lp1KxITE3H79m1YW1uzZKnBIE8dRkVFYdSoUYqS9UDnzp1hYmICLy8vAMCECRPg5eUFHx8f9OnTB7/++qsYcYkUTpwR5kpBoeZtyP2yary7OrXe/XI5cDLrJn7Ye1mHqZ7Ozp07xY5ApLb09HRFyXrttdcwZcqUekvWwyorK5GTk6P4uqSkBLdv3xYyapNgcEWroKAAZ86cQWho6GP78vLy4OnpCTMzMwDA5s2bkZ6ejpMnT2LdunWYNGkSampqdB2ZCABQer8KF/NLBJk744Luf1kmJF7B3dKqBsdIpcBXCed1lOjpZWVliR2BSC3l5eVYv349AGDKlCno37+/Ws97dE1WQEAAZDIZ1qxZ0+BViWSApw4LCgoAAA4ODkrby8rKkJSUhKCgIMW2hw+H3rlzBxKJBPKHz23UQyLhFVwkAKPmgMcnSpseXF1Yn/r2P3o14vKPP8Xyed9qlu9JtQoCHCY1OEQmA34/mgmJZKyOQj1OnQ+MjomJUTlOXxYLv/PROgC1v6cefqzvGmNusTNHRkbCw8NDaduRI0dQVFSEDh06YNy4cWrN82jJioyMhLm5OTIyMpCXl4eTJ0/Cz89P6TlJSUkIDAzU2veij9TpA4ABHtGyt7cHAGRnZyttX7FiBa5du/bYD8vcuXPh6uqKSZMmYfv27WodXiUShLy6cc5dn5oy1WPkcqDmvvBZiAzEg3tejR07FkZGRirH11WybGxsYG5urjgwwftoNczgWoOrqyu8vLwQFRUFW1tbtG3bFnFxcYoPhH20aH355ZcAatv5vHnz8Pvvvz92Rcaj1G25RE9CLpfDIeBb3LhVrthW332y1LmP1sPWfLoEr0z5XvOQT+Ba4X20G/EdamQN/HuRSPDhghAsCF+is1yPSklJUTkmJiZG5W1hNmzYoK1IGlmwvPa0kVwuV3qs7xpjbrEzJyYmorDw7/WX9+7dw5UrV2Bqaoq+ffuqfH59JeuBwYMH4+uvv0ZmZiZqamqUipu/v7/e///RFYM7oiWVShEbGwtPT0/Mnj0b06dPh729PebOnQsjIyPFQvhH+fv7QyqV4siRIzpOTFRLIpHAz8NekLmFmrchjq0sMSPErd79UqkELVuYIryBMfpi4cKFYkcgUuny5doLSzp06AATE5MGx6oqWQDQokULtG7dGpWVlbh69apQsRs9gytaAODm5oYDBw6gtLQUeXl5WLZsGTIyMuDh4QELCwsAtc0/NzdX8ZyTJ0/i4sWL6Natm1ixiTBpuIvW5+zgZAXfbnZan1cdqxf0w9ih7QHgsbvTt2xuin3rRqGVrYUY0Z5ISEiI2BGIVHpwhWCbNm0aHKdOyXrgwVy3bjWumwzrksGdOqxPamoq+vXrp/i6tLQUU6dOxb1792BsbAxzc3N88803aN++vYgpydBNC+qEN1edQHFJpdbmnDXZHUZG4rznMjczxo+fDUfi8WtYvz1LcSuHz97ph7BxXWDd3FSUXE+qT58+OHHihNgxiBo0cOBA9OrVS+WC/LKyMpSWlqp1M9J58+YBAMzNeWPh+rBoofboVXZ2NubMmaPY1qZNGxw7dkzEVESPs7QwxtI5vnh9uXZ+Njs4WeHVaeIepZVIJAjs54TAfk74YW/tmrLXnvcUNRNRU2RkZARLS0uV49q0aYPIyEiYmZmpvBmpOvMZOhYtAFZWVrw/FjUar07zQPxvV5CU+pdG80gkwFdLBqN5s8Zx1IiIdEfV6UVSn0Gu0SJqzKRSCeJWBaJ755b1jpF4faXyisM17w1EYD8nbcczSIMGDRI7AhHpKRYtokbIvqU5Dm4cjZED2j7xc1s0M8G3Hw3FrFB3AZIZpujoaLEjEJGeYtEiaqTsbMyxe81IfLV0MJzbNFM5XiqVYPIIF5xNmIRpozvpIKHhmD9/vtgRiEhPcY0WUSMmkUgwI8QN/xjbGb/8noedv+cjNbMIlwpKUF0th00LU3h3tUU/r9YIG9cF7R0bvtkuPZ3Dhw+LHYGI9BSLFlETYGwsxYRhLpgwzEXsKERE9BCeOiQiIiISCIsWEZGGeLNSIqoPTx0SEWkoISGBH8NDekfVzUbrcin/GgDAtZ2j0mNdvHZTxaJFRKShDz/8kEWL9I6vr+8TP2ff8vUAgIiwYUqP6enx1CERERGRQFi0iIiIiATCokVEpKFVq1aJHYGI9BSLFhGRhtzd+XFGRFQ3Fi0iIg0FBweLHYGI9BSLFhEREZFAWLSIiDTk4+MjdgQi0lMsWkREGjp58qTYEYhIT7FoEREREQmERYuIiIhIICxaREQa2rJli9gRiEhPsWgRERERCYRFi4hIQ2FhYWJHICI9ZSx2ACIiIqIH0tLSUFxcrPPXtbGxga+vr9bnZdEiIiIivVFcXIzCwkKxY2gNTx0SEWkoIiJC7AhEpKdYtIiINDRz5kyxIxCRnmLRIiLRlZVX44/MIsXXfxXdFzHNkxs9erTYEYhIT3GNFhGJ4k5JJbb+fAGbf7yA09m3UFMjV+xzHLYNjq0sMX5oe8yZ2g093GxFTKpaUVGR6kFEZJBYtIhIp+RyOTb/eAHzVhzHnXuV9Y67Vngfa2OzsDY2C9OCXPH5wv6wszHXYVIiIs3x1CER6Ux5RTUmz0/EjMhDDZasR23bfQmeIfFIPaufVyK5u7uLHYGI9BSLFhHpRGVVDULe+A3xv115qudfv1mGwIjdSMvUv9N0W7duFTsCET2B0tJSnb0WTx0SkU78e/0p7DlS0OAYeXo4AEDi9VWd+++WViH0zUSkx4WgmaWJ1jM+raioKCxatEjsGEQG58aNG0hJScGlS5dw7do1VFVVwczMDO3bt0enTp3Qt29fWFlZPfacDz74AEOHDsXkyZMFz2iQR7RkMhlWrlyJLl26wNzcHD179kRSUhK6du3Ky7SJBHD6/E1ExZzWylyXCkrw7ud/aGUubdmxY4fYEYgMSn5+PlasWIHXX38dX3/9NY4cOYJLly4hPz8fOTk5SExMxIYNGzB79mysXbtWcaf5ByWrqKgIp0+fRlVVleBZDfKIVnh4OOLj47F48WL4+fkhOTkZ06ZNQ2FhIebPny92PKImZ8WmDKWrCjW1NvYcFs/y5uJ4IgMjl8vx448/IjY2FjU1NTA2NkafPn3g4eGB9u3bw8zMDKWlpbhy5QpOnTqF9PR0HDx4EKmpqQgNDcXPP/+MoqIidOnSBQsXLoSJifBHxg2uaG3btg2bN2/GwYMH4e/vDwAICAhAWloa4uPjBfmcIyJDVnirDLH7Lmt1zopKGTbtuIA3X+qh1XmJSH/JZDLExMQgMTERABAYGIgpU6bA2tr6sbEeHh4YPXo0rl69ii1btuD06dPYtGkTAChKlqWlpU5yG9ypw6ioKIwaNUpRsh7o3LkzTExM4OXlpbR9/fr1kEgkiIuL02VMoibj8MnrqKqWaX3e345f1fqcT2vnzp1iRyBq8uLj45GYmAhTU1O89dZbePnll+ssWQ9zcnJCeHg4mjVrptg2cuRInZUswMCKVkFBAc6cOYPQ0NDH9uXl5cHT0xNmZmaKbRcuXMCmTZvQr18/XcYkalL+EOgqwT8yiyCXa+90pCaysrLEjkDUpF26dAnx8fGQSCSYP38+/Pz81HregzVZpaWlsLOzAwB8/fXXuHv3rpBxlRjUqcOCgtornhwcHJS2l5WVISkpCUFBQYpt1dXVmDFjBtasWYM33njjiV5HIpFonJWoyXCeDrQcqLTpwdWF9alv/8NXIxbeLofUyASQ12iesQHqfGB0TEyMynF9+vTRViSNvPPROgC1v6cefqzvGmNuZn46kZGR8PDwUNq2detWyGQyBAUFwdvbW615Hl743qVLF7zzzjuIjo5GZmYm4uPj8dJLLymNT0pKQmBgoNo51X2jZ1BHtOzt7QEA2dnZSttXrFiBa9euKTXkZcuWPdH/UCKqj5C/pPX7jxYRaS43NxdZWVmwsLDAlClT1HrOoyVr4cKFsLKyQlhYGIDaUlVeXi5kbAWDOqLl6uoKLy8vREVFwdbWFm3btkVcXBx27doFAIqidfz4cSQmJuLgwYNP9Tr6cjqDSB+8teoEVm7JUNpW332yVN1H62EtrExQXFMp+LvtlJQUlWNiYmJU3hpmw4YN2oqkkQXL1wOo/T318GN91xhzM/PTSUxMRGHh358CkZycDAAYNGgQLCwsVD6/rpL1YE1Whw4d0KVLF1y4cAGnTp1SWhrk7+8vyPdqUEe0pFIpYmNj4enpidmzZ2P69Omwt7fH3LlzYWRkpFgIf+DAAVy8eBGdOnWCi4sLjh07hjlz5mDVqlUifwdEjY9vNzuB5rXXm9MwCxcuFDsCUZN16dIlAECPHqqvMm6oZD3wYJ6LFy9qP2wdDOqIFgC4ubnhwIEDSttefPFFeHh4KJryggULsGDBAsX+oUOH4tVXX9XJHWSJmpqBPm0gkQDafqM42LeNdifUQEhIiNgRiJqsP//8E0Dt0aiGqFOyAMDFxQXA3+u2hWZQR7Tqk5qaqvYVDET0ZNo7WmHUQGetzimVShAe4qbVOTWhLwvdiZqioKAgjB8/vsFbOcjlcnz55ZcqSxYAtGvXDiEhIejfv79QkZUY3BGtR927dw/Z2dmYM2dOvWOedq0WEdV6M6wHdh/W3rvHKc90RAen5lqbj4j019ixY1WOkUgkmD17NrZt24ZZs2Y1eJ8sR0dHTJ06VZsRG2TwRcvKygo1NcJeHk5k6Ib1dcKMEDdsTMhWPVgFOxszfPoO721HRMocHBwwb948sWM8xuCLFhHpRvSbfZF6tgjp2bfqHaPqakNjIwm2/scfbexUX3mkS4MGDRI7AhHpKa7RIiKdsG5uiv3rRj31VYhmplL8sHIYRg9up+VkmouOjhY7AhHpKRYtItKZ1nYWOLJ1DN6e3gNSqfq3Zujd3R5p309ASKCLcOE0MH/+fLEjEJGeYtEiIp0yNzPG8nl9cCZ+IuY+2w0trEzqHTu0tyNiVw5D8tax8OjUUocpn8zhw4fFjkBEeoprtIhIFN1cbfDFogH49O1+yLpcjNPZt3D3XhVMjKXo3L4FfNztYN3cVOyYREQaYdEiIlEZG0vRvYstunexFTsKEZHW8dQhEZGGTpw4IXYEItJTLFpERBpKSEgQOwIR6SmeOiQi0tCHH37Izzsk0hIbG5snfs6l/GsAANd2jkqPhX5ddbBoERERkd7w9fV94ufsW74eABARNkzpsT7gqUMiIiIigbBoERFpaNWqVWJHICI9xaJFRKQhd3d3sSMQkZ5i0SIi0lBwcLDYEYhIT7FoEREREQmERYuIiIhIILy9AxFRA3r37q1yzPvvv6/WOCIyPDyiRUSkoSVLlogdgYj0FIsWERERkUBYtIiIiIgEwqJFREREJBAWLSIiIiKBsGgRERERCYRFi4iIiEggLFoicHFxgaenJ7y9veHt7Y2MjAyxIxERqeXgwYPw9PRE586dERERgZqaGrEjqfT666/D2dkZxsaN59aR+fn5CAwMRLdu3eDp6YmFCxeKHUktzzzzDLy9vdGjRw9MnjwZd+/eFTuS2ubOnSvIzwiLlkj27t2LU6dO4dSpU+jRo4fYcYiIVJLJZIiIiEBsbCxycnJw9+5dfPPNN2LHUik0NBSpqalix3gixsbGWL58Oc6dO4eTJ0/i8OHD+PHHH8WOpVJsbCxOnTqFjIwMODs7Izo6WuxIajl06BDu3bsnyNwsWkREpJaUlBQ4OTnBw8MDABAeHo7t27eLnEq1QYMGwcHBQewYT8TR0RG9evUCAJiamsLHxwd5eXkip1LN2toaQG0pLy8vh0QiETmRahUVFViwYAFWrlwpyPwsWiIZO3YsvL298e6776KqqkrsOEREKhUUFKBdu3aKr9u3b4/8/HwRExmGW7duYceOHRgxYoTYUdQSEhKC1q1b4/z58/jXv/4ldhyVPvjgA4SHh6NVq1aCzC+Ry+VyQWameuXn56Ndu3YoLS1FWFgY/Pz8Gs35dyJqXO6XlWPL9r2orKoGAFy7cRMA4NjaTunxA6Gj/eHUxr7OueLi4pCQkID/+7//AwCcO3cOzz33HE6ePKn13AePncLpcxcVXzeUu1MHJ4wZ1l/lnMbGxqiurtZ61geK797D1wn7IJPV/lltKLNUKsHzE0bA1rp5g3NWVlZi1KhRCA4OFqy07Ew8hpzcP1VmBgAvd1cE9PdROWdlZSXCw8MRGBiIl156SeuZr964ididBxVfN5Tb1MQY/5g0Es0szB+bJz09HfPnz8f+/fshkUgE+RnhES0RPHhH2KxZM0RERCA5OVnkRETUVFlamMO3uxuu3bip+AME4LHH127cRDvHVvWWLKD2d9fDR7Dy8vLg7OwsSO6+3t1wv6xcZe7bd0owqJd+rHO1aWGFbp06qPXf2t21vcqSVVNTg+eeew7e3t6CHhka2Ks7bt8pUZm59H45+vp4qDWnqakpnn32WSQkJGg9LwA4tbZDO8dWav239vHsUmfJAoAjR44gMzMTHTt2hIuLC2pqauDi4qLVRfwsWjpWWlqq+B9YU1OD7du3w8vLS+RURNSU9enpDvdO7RscY2vTHMEqjgr16tULBQUFyMzMBAB89dVXmDhxotZyPszC3Ayho4eqHDd+xEDYtLASJMPTCOjvA2fHhk9BOTu0wrABvirnmjlzJpo3b45Vq1ZpK16dbFpYYcIzg1SOCw32h6W5Wb37S0pKcO3aNQC1a7R++ukneHp6ai3no4KH9YedTYsGx3R1bYe+3t3q3T979mxcvXoVV65cwZUrV2BkZIQrV66gRYuG530SLFo6dv36dQwZMgReXl7w8vKCXC7Hu+++K3YsImrCJBIJJo0aAkuLuv9ISiQSTA0OgJmpSYPzGBkZISYmBpMnT0anTp1gZWWFF198UYjIAIDOLm0x0K97vft7dHWFt0dnlfPMmjULzs7OqKmpgbOzM+bOnavNmEqMjKSYGhwAE2OjOvcbGxthypgAGBk1/Of3yJEj2LhxI1JTU+Hj4wNvb2+sXr1aiMgAgJ7dOsHL3bXe/QP8uqOLS8NHL0tKSjBu3DjF37fq6mq899572o6qYGZqgiljAupdcG9pYYZJQf6iL8jnGi09IpfLRf+BIKKm68z5y/hmx/7Htgf098bIIX1ESKRaVVU1Pt8Sjxs3i5W2N7eyxBszJtd7SkhsR9PO4sf9Rx7bPm74AAxooDyK6X5ZOT7ZGIeSe/eVtreytcFrL02EiYl+3ods7+8pOHD08XWCz08Yjh5d6y+PusIjWnpkx77D+OnXx/9hEhFpQ/euHeHb3U1pm1MbOwQO9BMpkWomJsaYOmYYpFLlN6GTg/z1tmQBQD8fD7h1VD4C1MWlLfr5CncqTVOWFuYIDfJX2iaVSjB1TIDeliwACBzoC6c2dkrbfDy76EXJAvSoaC1ZsgQSiQRnzpxBcHAwrKys4OjoiI8//hgAsHv3bvj6+sLS0hI+Pj44fPiw0vOTk5MxcuRIWFtbw8LCAoMHD35sTGpqKqZMmYL27dvDwsICnTt3xj//+U/cuXNHaVxOTg4mT54MBwcHmJmZoW3bthg3bhxu3rwJodwsvouU9CwAPKJFRMIZN3yAYk2TsZERpgYHwNio7tNc+qKtgz2GP1QG+/l4oKtruwaeIT6JRILJQf6w+N+aJgtzM0wePRRSPT9r4ebaDv19/17wHjjAT+WaM7EZGxlh6phhip9jmxZWGD9ioMip/qY3ReuB0NBQDBs2THHPkLfffhsLFizAW2+9hbfffhuxsbGQy+UYP348SkpKAAD79u3D0KFDIZFIsGnTJsTFxaF58+YIDAxESkqKYu4rV66gR48e+OKLL7Bnzx4sXLgQu3fvxujRo5UyBAcHIzc3F59//jn279+PTz75BG3atEFZWZlg3/eBoychlUgxtG9PwV6DiMjczBShwUMhATDSvzfatLIVO5Ja/Pt5o71Ta9i3tMbooX3FjqOWFs2bKRaZTxgxENbNm4mcSD1BQ/vB3tYa7RxbY2h/b7HjqKWNfUuM8q89/R06eijMzUxFTvQ3vVmjtWTJEixduhRr1qzBK6+8AqD2bq1t2rTB/fv3kZ2dDRcXFwBAYmIiAgMDERcXh0mTJsHNzQ329vY4fPgwpNLa7lhdXY3u3bvD1dUVu3btqvM1q6urcfToUQwZMgQnT56Et7c3ioqK0KpVK+zYsQPjx49/qu9lwfL1T/U8IiIiahw+ememWuP07ojWw0eXzMzM4Orqim7duilKFgC4u7sDqL3xZ05ODi5cuIAXXngBMpkM1dXVipuNDR8+HElJSYrn3bt3D++99x66dOkCc3NzmJiYYMiQIQCA8+fPAwDs7Ozg6uqKBQsWYP369cjKyhL6WyYiIqImSu9Wt9naKh/GNjU1hbm5+WPbAKC8vBzXr18HUPup2/VdsltWVgYLCwvMmDEDu3fvxpIlS+Dr64vmzZsjPz8fEydOVJwWlEgk+PXXX/HBBx/gvffeQ2FhoeJy4HfeeUetqwLVbblA7dqsVRu+Rz8fT4wbPkDt5xEREZH+07ui9aTs7GqvNFiyZAmCg4PrHGNmZoby8nIkJCQgMjJS6Q67jy6EB4COHTti06ZNkMvlOHv2LDZu3IiFCxfC3t4eERERKjM9zanD5D/OIPmPM0/8PCIiItI9dQ+qNPqi1bVrV7i6uiIjIwPvv/9+veMqKipQXV0NExPlG/Jt3Lix3udIJBJ0794d0dHRWLt2LTIyMrSWm4iIiJq+Rl+0JBIJ1q5di+DgYIwfPx4vvPACWrdujcLCQqSlpaGqqgoff/wxrK2tMWDAAKxcuRJt2rSBk5MTfvjhBxw/flxpvvT0dLz22muYMmUKunTpAgCIjY1FWVkZRo4cqVYmdVtu3O4knDqbg7dnPYsWjeRqFCIiIlJfoy9aADBixAgkJyfjP//5D2bPno2SkhK0bt0avr6+ePnllxXjvv32W7z66qt44403YGRkhDFjxuD7779Hr169FGMcHBzg4uKCzz77DAUFBTAxMUG3bt3www8/PHYbCE3cLL6LtDPZ6OfjyZJFRETUROnN7R0MzYXLBdi+53fMeWE8ixYREVETxaIlIplMprjvFxERETU9LFpEREREAuHhFCIiIiKBsGgRERERCYRFi4iIiEggLFpEREREAmHRIiIiIhIIixYRERGRQFi0iIiIiATCokVEREQkEBYtIiIiIoGwaBEREREJhEWLiIiISCAsWkREREQCYdEiIiIiEgiLFhEREZFAWLSIiIiIBMKiRURERCQQFi0iIiIigbBoEREREQmERYuIiIhIICxaRERERAJh0SIiIiISCIsWERERkUBYtIiIiIgEwqJFREREJBAWLSIiIiKBsGgRERERCYRFi4iIiEgg/w9M8cdTVyFZmAAAAABJRU5ErkJggg==",
      "text/plain": [
       "<Figure size 779.079x385.28 with 1 Axes>"
      ]
     },
     "execution_count": 20,
     "metadata": {},
     "output_type": "execute_result"
    }
   ],
   "source": [
    "qc = QuantumCircuit(5)\n",
    "\n",
    "qc.rx(np.pi/4, 0)\n",
    "\n",
    "for target_qubit in range(1,5):\n",
    "    qc.cx(target_qubit - 1, target_qubit)\n",
    "\n",
    "# Let us store the circuit without the measurement for later use\n",
    "qc_tmp = qc.copy()\n",
    "qc.measure_all()\n",
    "qc.draw(output='mpl')"
   ]
  },
  {
   "cell_type": "markdown",
   "metadata": {},
   "source": [
    "Now let us simulate the circuit with 1000 shots. That means that we produce the state in the quantum circuit and measure each 1000 times. Each time we measure, we can, in theory, obtain a different outcome based on the quantum state that is prepared. This experiment gives us a histogram of different outcomes, so the more shots we take, the more accurately the histogram will represent the expected probability distribution of the quantum state."
   ]
  },
  {
   "cell_type": "code",
   "execution_count": 21,
   "metadata": {},
   "outputs": [
    {
     "data": {
      "text/plain": [
       "{'11111': 1463, '00000': 8537}"
      ]
     },
     "execution_count": 21,
     "metadata": {},
     "output_type": "execute_result"
    }
   ],
   "source": [
    "job = backend.run(qc, shots=10000)\n",
    "result = job.result()\n",
    "result.get_counts()"
   ]
  },
  {
   "cell_type": "markdown",
   "metadata": {},
   "source": [
    "We can compute the expected probabilities in the following way."
   ]
  },
  {
   "cell_type": "code",
   "execution_count": 22,
   "metadata": {},
   "outputs": [
    {
     "data": {
      "text/plain": [
       "0.8535533905932737"
      ]
     },
     "execution_count": 22,
     "metadata": {},
     "output_type": "execute_result"
    }
   ],
   "source": [
    "# Explicitly construct the |00000> statevector\n",
    "zero = np.array([1,0])\n",
    "all_zeros_state = zero.copy()\n",
    "for qubit in range(qc.num_qubits - 1):\n",
    "    all_zeros_state = np.kron(all_zeros_state, zero)\n",
    "\n",
    "psi = Statevector(qc_tmp)\n",
    "psi_zero = Statevector(all_zeros_state)\n",
    "\n",
    "# Calculate |<00000|psi>|^2\n",
    "np.abs(psi.inner(psi_zero))**2"
   ]
  },
  {
   "cell_type": "code",
   "execution_count": 24,
   "metadata": {},
   "outputs": [
    {
     "data": {
      "text/plain": [
       "array([1, 0, 0, 0, 0, 0, 0, 0, 0, 0, 0, 0, 0, 0, 0, 0, 0, 0, 0, 0, 0, 0,\n",
       "       0, 0, 0, 0, 0, 0, 0, 0, 0, 0])"
      ]
     },
     "execution_count": 24,
     "metadata": {},
     "output_type": "execute_result"
    }
   ],
   "source": [
    "all_zeros_state"
   ]
  },
  {
   "cell_type": "code",
   "execution_count": 23,
   "metadata": {},
   "outputs": [
    {
     "data": {
      "text/plain": [
       "0.14644660940672624"
      ]
     },
     "execution_count": 23,
     "metadata": {},
     "output_type": "execute_result"
    }
   ],
   "source": [
    "# Explicitly construct the |11111> statevector\n",
    "one = np.array([0,1])\n",
    "all_ones_state = one.copy()\n",
    "for qubit in range(qc.num_qubits - 1):\n",
    "    all_ones_state = np.kron(all_ones_state, one)\n",
    "\n",
    "psi = Statevector(qc_tmp)\n",
    "psi_one = Statevector(all_ones_state)\n",
    "\n",
    "# Calculate |<11111|psi>|^2\n",
    "np.abs(psi.inner(psi_one))**2"
   ]
  },
  {
   "cell_type": "code",
   "execution_count": 25,
   "metadata": {},
   "outputs": [
    {
     "name": "stdout",
     "output_type": "stream",
     "text": [
      "Statevector([0.92387953+0.j        , 0.        +0.j        ,\n",
      "             0.        +0.j        , 0.        +0.j        ,\n",
      "             0.        +0.j        , 0.        +0.j        ,\n",
      "             0.        +0.j        , 0.        +0.j        ,\n",
      "             0.        +0.j        , 0.        +0.j        ,\n",
      "             0.        +0.j        , 0.        +0.j        ,\n",
      "             0.        +0.j        , 0.        +0.j        ,\n",
      "             0.        +0.j        , 0.        +0.j        ,\n",
      "             0.        +0.j        , 0.        +0.j        ,\n",
      "             0.        +0.j        , 0.        +0.j        ,\n",
      "             0.        +0.j        , 0.        +0.j        ,\n",
      "             0.        +0.j        , 0.        +0.j        ,\n",
      "             0.        +0.j        , 0.        +0.j        ,\n",
      "             0.        +0.j        , 0.        +0.j        ,\n",
      "             0.        +0.j        , 0.        +0.j        ,\n",
      "             0.        +0.j        , 0.        -0.38268343j],\n",
      "            dims=(2, 2, 2, 2, 2))\n"
     ]
    }
   ],
   "source": [
    "psi"
   ]
  },
  {
   "cell_type": "markdown",
   "metadata": {},
   "source": [
    "Let us try the same same experiment on a noisy simulator. These use noise models based on calibration data on IBM's real quantum devices. They are not completely accurate, but often do the job."
   ]
  },
  {
   "cell_type": "code",
   "execution_count": 26,
   "metadata": {},
   "outputs": [
    {
     "data": {
      "text/plain": [
       "{'01111': 2,\n",
       " '11110': 2,\n",
       " '00011': 1,\n",
       " '00001': 6,\n",
       " '00100': 16,\n",
       " '11011': 3,\n",
       " '11111': 128,\n",
       " '11100': 3,\n",
       " '10111': 3,\n",
       " '01000': 8,\n",
       " '00010': 9,\n",
       " '11101': 3,\n",
       " '10000': 11,\n",
       " '00000': 805}"
      ]
     },
     "execution_count": 26,
     "metadata": {},
     "output_type": "execute_result"
    }
   ],
   "source": [
    "from qiskit_ibm_runtime.fake_provider import FakeHanoi\n",
    "\n",
    "backend = FakeHanoi()\n",
    "job = backend.run(qc, shots=1000)\n",
    "result = job.result()\n",
    "result.get_counts()"
   ]
  },
  {
   "cell_type": "markdown",
   "metadata": {},
   "source": [
    "As you can tell, now we obtain many different outcomes, which occured because some noise channels acted on the qubits!"
   ]
  },
  {
   "cell_type": "markdown",
   "metadata": {},
   "source": [
    "We can also try to run these circuits on real hardware. To do this please go to [https://quantum-computing.ibm.com/]() and create an account. Use the token you obtain from the website below to save your account."
   ]
  },
  {
   "cell_type": "code",
   "execution_count": null,
   "metadata": {},
   "outputs": [],
   "source": [
    "from qiskit_ibm_runtime import QiskitRuntimeService\n",
    "\n",
    "QiskitRuntimeService.save_account(token=\"TOKEN\")"
   ]
  },
  {
   "cell_type": "markdown",
   "metadata": {},
   "source": [
    "To run the circuits, we follow similar steps to before with some differences. Also notice that one account has access to each quantum computer on IBM Quantum for 10 minutes per month. We will not force you to run experiments on these devices, but encourage you to do so if you wish!"
   ]
  },
  {
   "cell_type": "code",
   "execution_count": null,
   "metadata": {},
   "outputs": [],
   "source": [
    "from qiskit_ibm_runtime import Sampler\n",
    "\n",
    "service = QiskitRuntimeService()\n",
    "service.backends()"
   ]
  },
  {
   "cell_type": "code",
   "execution_count": null,
   "metadata": {},
   "outputs": [],
   "source": [
    "backend = service.get_backend(\"ibmq_qasm_simulator\")\n",
    "sampler = Sampler(backend)\n",
    "\n",
    "job = sampler.run(qc, shots=1000)\n",
    "job_id = job.job_id()\n",
    "print(job_id)"
   ]
  },
  {
   "cell_type": "markdown",
   "metadata": {},
   "source": [
    "If you want to close the notebook while you wait in queue for the job to run, you can store the ID of your job. It is then easy to retrieve results from your job later on."
   ]
  },
  {
   "cell_type": "code",
   "execution_count": null,
   "metadata": {},
   "outputs": [],
   "source": [
    "from qiskit_ibm_runtime import QiskitRuntimeService\n",
    "\n",
    "service = QiskitRuntimeService()\n",
    "job2 = service.job(job_id=job_id)\n",
    "job2.result()"
   ]
  },
  {
   "cell_type": "markdown",
   "metadata": {},
   "source": [
    "The results here are not in the form of counts, but quasi-probability distributions. This is because you can use some of the noise mitigation techniques that Qiskit offers on these results. These noise mitigation techniques may return small negative probabilities and for that it would not make sense to return counts."
   ]
  },
  {
   "cell_type": "code",
   "execution_count": null,
   "metadata": {},
   "outputs": [],
   "source": [
    "job2.result().quasi_dists"
   ]
  }
 ],
 "metadata": {
  "kernelspec": {
   "display_name": "qiskit",
   "language": "python",
   "name": "python3"
  },
  "language_info": {
   "codemirror_mode": {
    "name": "ipython",
    "version": 3
   },
   "file_extension": ".py",
   "mimetype": "text/x-python",
   "name": "python",
   "nbconvert_exporter": "python",
   "pygments_lexer": "ipython3",
   "version": "3.11.9"
  },
  "orig_nbformat": 4
 },
 "nbformat": 4,
 "nbformat_minor": 2
}
