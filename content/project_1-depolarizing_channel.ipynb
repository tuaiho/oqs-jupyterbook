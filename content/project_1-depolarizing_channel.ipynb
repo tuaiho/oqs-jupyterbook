{
 "cells": [
  {
   "cell_type": "markdown",
   "metadata": {},
   "source": [
    "# Projekti 1: Depolarisoiva kanava"
   ]
  },
  {
   "cell_type": "markdown",
   "metadata": {},
   "source": [
    "Tässä projektissa toteutamme **depolarisoivan kanavan** Qiskitillä ja testaamme sitä simulaattorissa tilatomografiamenetelmällä – ja valinnaisesti myös oikealla laitteella. \n",
    "\n",
    "Depolarisoiva kanava on yksi yleisimmistä kubittidekoherenssin malleista sen kivojen symmetriaominaisuuksien ansiosta. Voimme kuvailla sitä sanomalla, että todennaköisyydellä $p$ kubitti pysyy koskemattomana, kun taas todennäköisyydellä $1-p$ tapahtuu virhe. Virhe voi olla bitin kääntyminen, jota kuvaa operaattorin $\\sigma_x$ toiminta, faasin kääntyminen, jota kuvaa operaattorin $\\sigma_z$ toiminta tai molemmat, jota kuvaa operaattorin $\\sigma_y$ toiminta. Kun Markovin avoin kvanttisysteemi altistetaan depolarisoivalle taustakohinalle, sen dynaaminen kuvaus (/operaattori ?) voidaan kirjoittaa: \n",
    "\n",
    "\\begin{align}\n",
    "\\Phi_t \\rho_S = \\left[1-\\frac 3 4 p(t)\\right] \\rho_S + \\frac{p(t)}{4} \\sum_i \\sigma_i \\rho_S \\sigma_i,\n",
    "\\end{align}\n",
    "\n",
    "jossa $i=x,y,z$ ja $p(t)=1 - e^{-\\gamma t}$, jossa $\\gamma$ on Markovin hajoamisnopeus. "
   ]
  },
  {
   "cell_type": "markdown",
   "metadata": {},
   "source": [
    "Depolarisoiva kanava voidaan toteuttaa millä tahansa arvolla $p\\equiv p(t) \\in [0, 1]$ ylläolevan (/vai sittenkin alla) kuvan mukaisella piirillä. \n",
    "Kolme apukubittia on valmistettu tilaan  $| \\psi_\\theta \\rangle = \\cos \\theta/2 | 0 \\rangle + \\sin \\theta/2 | 1 \\rangle$,\n",
    "ja ne toimivat kontrollina kontrolloidulle $X$-portille (CNOT), kontrolloidulle $Y$-portille ja kontrolloidulle  $Z$-portille.\n",
    "Kutakin näistä porteista käytetään siten todennäköisyydellä $\\sin^2 \\theta/2$."
   ]
  },
  {
   "cell_type": "markdown",
   "metadata": {},
   "source": [
    "Kiertokulma $\\theta$ täytyy valita niin, että kutakin porteista käytetään todennäköisyydellä $p$. \n",
    "Huomaa, että jos käytetään ensin porttia $X$ ja sitten porttia $Y$, (mutta ei porttia $Z$), lopputulos on sama kuin jos käytettäisi pelkkää porttia $Z$. \n",
    "(Samaan tapaan minkä vain porteista voi esittää kahden muun yhdistelmänä.??) Tuloksena saadaan yhtälö, joka sitoo $\\theta$:n arvon $p$:n arvoon: \n",
    "\n",
    "\\begin{equation}\n",
    "    \\sin^2 \\frac \\theta 2 \\cos^4\\frac\\theta2 + \\sin^4 \\frac\\theta 2 \\cos^2 \\frac \\theta 2 = \\frac p 4,\n",
    "\\end{equation}\n",
    "Tällä on ratkaisu $\\theta(p) = \\frac 12 \\arccos(1 - 2 p)$."
   ]
  },
  {
   "cell_type": "code",
   "execution_count": 3,
   "metadata": {},
   "outputs": [
    {
     "data": {
      "image/png": "[encoded data removed]",
      "text/plain": [
       "<Figure size 454.719x367.889 with 1 Axes>"
      ]
     },
     "execution_count": 3,
     "metadata": {},
     "output_type": "execute_result"
    }
   ],
   "source": [
    "####################################\n",
    "#       Depolarizing channel       #\n",
    "####################################\n",
    "\n",
    "from qiskit import QuantumRegister, QuantumCircuit\n",
    "import numpy as np\n",
    "\n",
    "# Quantum register\n",
    "q = QuantumRegister(4, name=\"q\")\n",
    "\n",
    "# Quantum circuit\n",
    "depolarizing = QuantumCircuit(q)\n",
    "\n",
    "# Depolarizing channel acting on q_2\n",
    "## Qubit identification\n",
    "system = 0\n",
    "a_0 = 1\n",
    "a_1 = 2\n",
    "a_2 = 3\n",
    "\n",
    "## Define rotation angle\n",
    "theta = np.pi/4\n",
    "\n",
    "## Construct circuit\n",
    "depolarizing.ry(theta, q[a_0])\n",
    "depolarizing.ry(theta, q[a_1])\n",
    "depolarizing.ry(theta, q[a_2])\n",
    "depolarizing.cx(q[a_0], q[system])\n",
    "depolarizing.cy(q[a_1], q[system])\n",
    "depolarizing.cz(q[a_2], q[system])\n",
    "\n",
    "# Draw circuit\n",
    "depolarizing.draw(output='mpl')"
   ]
  },
  {
   "cell_type": "markdown",
   "metadata": {},
   "source": [
    "## Tehtävä 1 (1p)\n",
    "\n",
    "Luo funktio, joka palauttaa kvanttipiirin, joka toteuttaa depolarisoivan kanavan parametrilla $p$ `system`-kubittiin käyttäen kolmea apukubittia `ancillae = [a1, a2, a3]`."
   ]
  },
  {
   "cell_type": "code",
   "execution_count": null,
   "metadata": {},
   "outputs": [],
   "source": [
    "def depolarizing_channel(q, p, system, ancillae):\n",
    "    \"\"\"Returns a QuantumCircuit implementing depolarizing channel on q[system]\n",
    "    \n",
    "    Args:\n",
    "        q (QuantumRegister): the register to use for the circuit\n",
    "        p (float): the probability for the channel between 0 and 1\n",
    "        system (int): index of the system qubit\n",
    "        ancillae (list): list of indices for the ancillary qubits\n",
    "        \n",
    "    Returns:\n",
    "        A QuantumCircuit object\n",
    "    \"\"\"\n",
    "    \n",
    "    # Write the code here..."
   ]
  },
  {
   "cell_type": "markdown",
   "metadata": {},
   "source": [
    "## Tehtävä 2 (1p)\n",
    "Luo piiri `prepare_state` joka valmistaa kubitin `system` alkutilaan, jossa populaatiot (?) ja koherenssit poikkeavat nollasta (sekä reaali- että imaginääriosat)."
   ]
  },
  {
   "cell_type": "code",
   "execution_count": null,
   "metadata": {},
   "outputs": [],
   "source": [
    "# Let's fix the quantum register and the qubit assignments\n",
    "\n",
    "# We create the quantum circuit\n",
    "q = QuantumRegister(4, name='q')\n",
    "\n",
    "# Index of the system qubit\n",
    "system = 1\n",
    "\n",
    "# Indices of the ancillary qubits\n",
    "ancillae = [0, 2, 3]"
   ]
  },
  {
   "cell_type": "markdown",
   "metadata": {},
   "source": [
    "## Tehtävä 3 (4p)\n",
    "Valmistele tilatomografiakoe, jolla analysoimme piirin ja depolarisoivan kohinan tuottamaa tilaa. Tässä rekonstruoimme tiheysmatriisit ja tilojen [fideliteetit](https://en.wikipedia.org/wiki/Fidelity_of_quantum_states).\n",
    "\n",
    "1. Eri arvoille $p \\in [0, 1]$: \n",
    "\n",
    "    1. A) Yhdistä kvanttipiirissä `prepare_state` ja `depolarizing_channel`. \n",
    "\n",
    "    2. Valmistele ja aja `StateTomography`, joka löytyy kirjastosta `qiskit_experiments.library.tomography`  tehdäksesi tomografian **vain** `system`-kubitille simulaattoria käyttäen. \n",
    "\n",
    "      - Laske myös fideliteetti verrattuna `system`-kubitin tilaan `prepare_state` (eli ilman depolarisoivaa kanavaa). Saatat tarvita toimintoa [`partial_trace`](https://qiskit.org/documentation/apidoc/quantum_info.html#qiskit.quantum_info.partial_trace) `qiskit.quantum_info`:sta. \n",
    "\n",
    "      - Laske virherajat fideliteeteille [bootstrapping-menetelmällä](https://en.wikipedia.org/wiki/Bootstrapping_(statistics%29). Käytä tätä varten `StateTomographyAnalysis`-kirjastosta `qiskit_experiments.library.tomography` joillakin argumenteilla ja käytä näitä `StateTomography`:ssa.\n",
    "\n",
    "    3. Kokoa tiheysmatriisit, fideliteetit ja fideliteettien virheet.\n",
    "<br/><br/>\n",
    "2. Kuvaile lyhyesti omin sanoin, mitä `StateTomography` tekee. Mitä täytyy mitata? Miten varmistamme, että tiheysmatriisi on fysiikalinen? (Mahdollisesti hyödyllisiä linkkejä: [Quantum State Tomography](https://qiskit.org/ecosystem/experiments/manuals/verification/state_tomography.html) ja [Open Quantum Systems with Qiskit](https://matteoacrossi.github.io/oqs-jupyterbook/preliminaries.html).) "
   ]
  },
  {
   "cell_type": "code",
   "execution_count": null,
   "metadata": {},
   "outputs": [],
   "source": [
    "# For example, let's consider 10 equally spaced values of p\n",
    "import numpy as np\n",
    "p_values = np.linspace(0, 1, 10)"
   ]
  },
  {
   "cell_type": "markdown",
   "metadata": {},
   "source": [
    "## Tehtävä 4 (4p)\n",
    "1.  Määritä numeerisesti eksakti tiheysmatriisi `system`-kubitille depolarisoivan kanavan jälkeen $p$:n funktiona.\n",
    "2. Piirrä kuvaajat $\\rho_{00}$:n, $\\rho_{11}$:n, $\\mathrm{Re}(\\rho_{01})$:n ja $\\mathrm{Im}(\\rho_{01})$:n arvoista $p$:n funktiona ja vertaa niitä analyyttisiin ennusteisiin/odotuksiin.\n",
    "3. Määritä numeerisesti `system`-kubitin eksaktit fideliteetit depolarisoivan kanavan jälkeen $p$:n funktiona. \n",
    "4. Piirrä kuvaajat `system`-kubitin eksakteista ja simuloiduista fideliteeteistä verrattuna alkutilaan $p$:n funktiona. Lisää 3. tehtävässä lasketut virherajat kuvaajiin. \n",
    "\n",
    "Datapisteiden äärellisestä määrästä johtuvia tilastollisia virheitä lukuun ottamatta simulaation tuottamien pisteiden tulisi olla lähellä analyyttistä ennustetta. Fideliteettien osalta virherajat kattavat yhden keskihajonnan (~68 %). "
   ]
  },
  {
   "cell_type": "code",
   "execution_count": null,
   "metadata": {},
   "outputs": [],
   "source": [
    "import matplotlib.pyplot as plt"
   ]
  },
  {
   "cell_type": "markdown",
   "metadata": {},
   "source": [
    "## Valinnainen lisätehtävä \n",
    "Suorita kaikki yllä olevat tehtävät todellisella laitteella melunvaimennuksen kanssa ja vertaa tuloksia simulaatioon. Tätä varten voit käyttää [`MitigatedStateTomography`:a](https://qiskit.org/ecosystem/experiments/stubs/qiskit_experiments.library.tomography.MitigatedStateTomography.html#qiskit_experiments.library.tomography.MitigatedStateTomography) `StateTomography`:n sijaan. \n",
    "\n",
    "Huomaa, että `MitigatedTomographyAnalysis` toimii hieman eri tavalla kuin `StateTomographyAnalysis`. Jos tulee ongelmia, kokeile tarjota analyysiluokkaa ajaessasi tomografiakoetta sen sijaan, että teet sen alustaessasi koetta. \n",
    "\n",
    "Voit hankkia todellisen laitteen taustaohjelman seuraavalla koodilla (primitiivit, kuten `Sampler`, ovat suhteellisen uusia, joten niitä ei tueta vielä `qiskit-experiments`-ympäristössä). Varmista lopuksi, että olet luonut ja tallentanut [IBM Quantum](https://quantum-computing.ibm.com/)-tilisi! "
   ]
  },
  {
   "cell_type": "code",
   "execution_count": null,
   "metadata": {},
   "outputs": [],
   "source": [
    "from qiskit_ibm_provider import IBMProvider\n",
    "\n",
    "provider = IBMProvider()\n",
    "# Replace ibm_brisbane with the backend you want to run this on\n",
    "backend = provider.get_backend(\"ibm_brisbane\")"
   ]
  },
  {
   "cell_type": "code",
   "execution_count": null,
   "metadata": {},
   "outputs": [],
   "source": []
  }
 ],
 "metadata": {
  "kernelspec": {
   "display_name": "Python 3",
   "language": "python",
   "name": "python3"
  },
  "language_info": {
   "codemirror_mode": {
    "name": "ipython",
    "version": 3
   },
   "file_extension": ".py",
   "mimetype": "text/x-python",
   "name": "python",
   "nbconvert_exporter": "python",
   "pygments_lexer": "ipython3",
   "version": "3.11.5"
  }
 },
 "nbformat": 4,
 "nbformat_minor": 2
}
