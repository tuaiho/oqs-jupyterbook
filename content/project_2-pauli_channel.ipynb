{
 "cells": [
  {
   "cell_type": "markdown",
   "metadata": {},
   "source": [
    "# Projekti 2: Paulin kanava"
   ]
  },
  {
   "cell_type": "markdown",
   "metadata": {},
   "source": [
    "Tässä projektissa toteutamme yleisen **Paulin kanavan** qiskitillä. \n",
    "\n",
    "Sovellamme tätä kvanttitermofysiikassa tärkeän suureen, erottuvan työn (extractable work), arvioimiseen. Yritämme toistaa tutkimuksen [*G. García-Pérez et al., npj Quantum Inf 6, 1 (2020)*](https://doi.org/10.1038/s41534-019-0235-y) tuloksen. "
   ]
  },
  {
   "cell_type": "markdown",
   "metadata": {},
   "source": [
    "Yleisin mahdollinen malli yhden kubitin avoimelle kvanttisysteemille on ajasta riippuva Paulin kanava. Tällöin systeemin mestariyhtälö on \n",
    "\\begin{equation}\n",
    "\\frac{d\\rho_{S} }{dt}(t)=\\frac{1}{2}\\sum_i\\gamma_i(t)\\left[\\sigma_i\\rho_{S}(t)\\sigma_i-\\rho_{S}(t)\\right].\n",
    "\\end{equation}"
   ]
  },
  {
   "cell_type": "markdown",
   "metadata": {},
   "source": [
    "Yllä olevan mestariyhtälön [[1](#1)] kuvaama dynamiikka ei yleisesti ottaen ole vaihekovariantti (phase-covariant), lukuun ottamatta tapausta, jossa $\\gamma_x(t)=\\gamma_y(t)$. Lisäksi koska hajoamisnopeudet voivat saada negatiivisia arvoja, täytyy asettaa ehtoja, joilla taataan täydellinen positiivisuus (complete positivity). Nämä ehdot on annettu epäyhtälöryhmän muodossa, joka sisältää kaikki kolme hajoamisnopeutta, kuten näkyy kohdassa [[2](#2)].  \n",
    "<!--\n",
    "**In Sec.~\\ref{sec:discussion} we present the simulation of a specific form of time-dependent Pauli channel proposed in Ref.~\\cite{Hall2014} and used as an example of eternal non-Markovianity, i.e.~an open quantum system dynamics for which the dynamical map is non-CP-divisible for all times $t$. More precisely, we use this experimental simulation to demonstrate a phenomenon predicted in Ref.~\\cite{BognaWork}, namely the presence of oscillations in the extractable work. This shows an application of open quantum system simulation on the IBM Q Experience processors to fields other than quantum information theory, specifically quantum thermodynamics for the example here considered.** What? Is example Markovian or non-Markovian???? -->"
   ]
  },
  {
   "cell_type": "markdown",
   "metadata": {},
   "source": [
    "Tiettynä ajanhetkenä $t$ Paulin kanava voidaan kirjoittaa \n",
    "\\begin{equation} \n",
    " \\mathcal{E} (\\rho) = \\sum_{i=0}^3 p_i \\sigma_i \\rho \\sigma_i,\n",
    "\\end{equation}\n",
    " \n",
    "jossa $0 \\leq p_i \\leq 1$ ja $\\sum_i p_i = 1$. Depolarisoiva kanava on Paulin kanavan erityistapaus, jossa $p_1 = p_2 = p_3 = p/4$. "
   ]
  },
  {
   "cell_type": "markdown",
   "metadata": {},
   "source": [
    "On mahdollista toteuttaa Pulin kanava vain kahta apukubittia käyttäen, jos valmistaa nämä kubitit oikeanlaiseen lomittuneeseen tilaan. Ensimmäinen kubitti toimii kontrollina CNOT-portille, eli kontrolloidulle X-portille ja toinen kubitti kontrolloidulle Y-portille. Huomaa, että porttien X ja Y käyttäminen peräkkäin vastaa Z-portin käyttöä. "
   ]
  },
  {
   "cell_type": "markdown",
   "metadata": {},
   "source": [
    "Paulin kanavaa varten tarvittava apukubittien tila $|\\psi \\rangle$ voidaan toteuttaa seuraavalla piirillä: "
   ]
  },
  {
   "cell_type": "code",
   "execution_count": 1,
   "metadata": {},
   "outputs": [
    {
     "data": {
      "image/png": "[encoded data removed]",
      "text/plain": [
       "<Figure size 387.597x204.68 with 1 Axes>"
      ]
     },
     "execution_count": 1,
     "metadata": {},
     "output_type": "execute_result"
    }
   ],
   "source": [
    "from qiskit import QuantumRegister, QuantumCircuit\n",
    "from qiskit.circuit import Parameter\n",
    "\n",
    "#############################\n",
    "#       Pauli channel       #\n",
    "#############################\n",
    "\n",
    "# Quantum register\n",
    "q = QuantumRegister(3, name=\"q\")\n",
    "\n",
    "# Quantum circuit\n",
    "pauli = QuantumCircuit(q)\n",
    "\n",
    "# Pauli channel acting on q_2\n",
    "## Qubit identification\n",
    "system = 0\n",
    "a_0 = 1\n",
    "a_1 = 2\n",
    "\n",
    "# ## Define rotation angles\n",
    "theta_1 = Parameter('θ1')\n",
    "theta_2 = Parameter('θ2')\n",
    "theta_3 = Parameter('θ3')\n",
    "\n",
    "## Construct circuit\n",
    "pauli.ry(theta_1, q[a_0])\n",
    "pauli.cx(q[a_0], q[a_1])\n",
    "pauli.ry(theta_2, q[a_0])\n",
    "pauli.ry(theta_3, q[a_1])\n",
    "pauli.cx(q[a_0], q[system])\n",
    "pauli.cy(q[a_1], q[system])\n",
    "\n",
    "# Draw circuit\n",
    "pauli.draw(output='mpl')"
   ]
  },
  {
   "cell_type": "markdown",
   "metadata": {},
   "source": [
    "## Tehtävä 1 (1p)\n",
    "\n",
    "Depolarisoiva kanava on Paulin kanavan erityistapaus, jossa $p_1 = p_2 = p_3 = p/4$. Se voidaan siis toteuttaa yllä olevalla piirillä. Mutta miksei yleistä Paulin kanavaa voida toteuttaa projektissa 1 käytetyllä piirillä, jos jokaisen kolmesta apukubitista sallitaan kääntyä eri kulman $\\theta$ verran? \n",
    "\n",
    "Anna vastaesimerkki Paulin kanavasta, jota ei voida toteuttaa projektin 1 piirillä.\n",
    "\n"
   ]
  },
  {
   "cell_type": "markdown",
   "metadata": {},
   "source": [
    "## Tehtävä 2 (2p)\n",
    "Paulin kanavan piiritoteutuksessa keskeistä on seuraavan yhtälöryhmän inversio: \n",
    "\n",
    "\\begin{equation}\n",
    "    \\begin{cases}\n",
    "        p_0  = |\\langle 00|\\psi \\rangle|^2 = (c_1 c_2 c_3 + s_1 s_2 s_3)^2 & \\\\\n",
    "        p_1  = |\\langle 01|\\psi \\rangle|^2 = (c_1 c_2 s_3 - s_1 s_2 c_3)^2 & \\\\\n",
    "        p_2  = |\\langle 10|\\psi \\rangle|^2 = (c_1 s_2 c_3 - s_1 c_2 s_3)^2 & \\\\\n",
    "        p_3  = |\\langle 11|\\psi \\rangle|^2 = (s_1 c_2 c_3 + c_1 s_2 s_3)^2 &\n",
    "    \\end{cases}\n",
    "\\end{equation}\n",
    "\n",
    "where $c_i \\equiv \\cos 2\\theta_i$ and $s_i \\equiv \\sin 2\\theta_i$, that gives us the three angles $\\theta_1$, $\\theta_2$ and $\\theta_3$.\n",
    "\n",
    "Yhtälöryhmällä on useita ratkaisuja, mutta meille riittää yksi (voimme rajoittua tarkastelemaan kulmia välillä $0$ ja $2 \\pi$.) \n",
    "\n",
    "1. *Etsi tällainen ratkaisu joko analyyttisesti (esim. Mathematicalla) tai numeerisesti (esim. käyttäen ohjelmaa `scipy.optimize.root`).*\n",
    "2. *Tee funktio, joka palauttaa Paulin kanavan toteuttavan piirin listalle arvoja `[p_1, p_2, p_3]`.*\n",
    "\n",
    "HUOM: Monet laskennalliset ohjelmat eivät välttämättä löydä ratkaisua kohtaan 2.1. Jos näin käy, voit katsoa Mathematicalla saadun tuloksen tämän tehtävän ratkaisuista. "
   ]
  },
  {
   "cell_type": "code",
   "execution_count": null,
   "metadata": {},
   "outputs": [],
   "source": [
    "def pauli_channel(q, p, system, pauli_ancillae):\n",
    "    \"\"\"\n",
    "        Apply the Pauli channel to system with probabilities p\n",
    "        \n",
    "    Args:\n",
    "    q (QuantumRegister): the quantum register for the circuit\n",
    "    system (int): index of the system qubit\n",
    "    pauli_ancillae (list): list of indices of the ancillary qubits\n",
    "    p (list): list of probabilities [p_1, p_2, p_3] for the Pauli channel\n",
    "    \n",
    "    Returns:\n",
    "    A QuantumCircuit implementing the Pauli channel\n",
    "    \"\"\"\n",
    "    \n",
    "    # Write code"
   ]
  },
  {
   "cell_type": "markdown",
   "metadata": {},
   "source": [
    "## Tehtävä 3 (2p)\n",
    "\n",
    "Arvioidaan, kuinka paljon työtä voidaan erottaa systeemistä pyyhkimällä pois tiedot systeemikubitistamme A, joka on alun perin valmistettu lomittuneeseen tilaan, jonka kvanttimuisti on Q.  \n",
    "Tämä suure on tärkeä kvanttitermodynamiikassa. Se esiteltiin ensimmäistä kertaa tutkimuksessa *L. del Rio et al., Nature 474, 61 (2011)* ja sitä on tutkittu myös epä-Markovisessa dynamiikassa : [*B. Bylicka et al., Sci. Rep. 6, 27989 (2016)*](https://www.nature.com/articles/srep27989). (Kokeellinen toteutus IBM Q -laitteilla löytyy tästä: [*G. García-Pérez et al., npj Quantum Inf 6, 1 (2020)*](https://doi.org/10.1038/s41534-019-0235-y)). \n",
    "\n",
    "Toteutamme funktion, joka laskee arvoja erottuvalle työlle (extractable work) tutkimuksen [*B. Bylicka et al., Sci. Rep. 6, 27989 (2016)*](https://www.nature.com/articles/srep27989) kaavan 4 mukaisesti. Voit käyttää tämän uudelleenskaalattua versiota: \n",
    "\n",
    "$$\\frac{W_{ex}(t)}{kT\\ln{2}} = [n - S(A | Q)]$$\n",
    "\n",
    "*Tätä varten tarvitaan ensin funktio `conditional_entropy`: se ottaa kahden kubitin tilavektorin tai tiheysoperaattorin* ja palauttaa ehdollisen entropian (conditional entropy) $S(A|B) = S(AB) - S(B)$, jossa $S$ on [von-Neumannin entropia](https://en.wikipedia.org/wiki/Von_Neumann_entropy). "
   ]
  },
  {
   "cell_type": "code",
   "execution_count": 1,
   "metadata": {},
   "outputs": [],
   "source": [
    "# Suggested imports...\n",
    "from qiskit.quantum_info import entropy, partial_trace\n",
    "\n",
    "def conditional_entropy(state, qubit_a, qubit_b):\n",
    "    \"\"\"Conditional entropy S(A|B) = S(AB) - S(B)\n",
    "    \n",
    "    Args:\n",
    "        state: a vector or density operator\n",
    "        qubit_a: 0-based index of the qubit A\n",
    "        qubit_b: 0-based index of the qubit B\n",
    "        \n",
    "    Returns:\n",
    "        int: the conditional entropy\n",
    "    \"\"\"\n",
    "    # Write code here"
   ]
  },
  {
   "cell_type": "markdown",
   "metadata": {},
   "source": [
    "Nyt voit toteuttaa myös funktion `extractable_work`, joka ottaa kahden kubitin systeemin ja palauttaa erottuvan työn määrään. "
   ]
  },
  {
   "cell_type": "code",
   "execution_count": null,
   "metadata": {},
   "outputs": [],
   "source": [
    "def extractable_work(state, system_qubit, memory_qubit, n=1):\n",
    "    \"\"\"Extractable work from a two-qubit state\n",
    "    =\n",
    "    Cfr. Eq. (4) Bylicka et al., Sci. Rep. 6, 27989 (2016)\n",
    "    \n",
    "    Args:\n",
    "        state: a vector or density operator\n",
    "        system_qubit: index of the system qubit\n",
    "        memory_qubit: index of the memory qubit\n",
    "        n: number of system qubits\n",
    "    \"\"\"\n",
    "    # Write code here"
   ]
  },
  {
   "cell_type": "markdown",
   "metadata": {},
   "source": [
    "## Tehtävä 4 (5p)\n",
    "\n",
    "We are now going to implement two different types of dynamics, i.e. functions that return the values of p as function of time. One is a non-CP-divisible map (see [Chapter 8 of Open Quantum Systems with Qiskit](https://matteoacrossi.github.io/open_quantum_systems_course/non-markovian_quantum_dynamics.html))\n",
    "\n",
    "    p_ncp = [1/4 * (1 - np.exp(-2 * t * eta)), \n",
    "             1/4 * (1 - np.exp(-2 * t * eta)),\n",
    "             1/4 * (1 + np.exp(-2 * t * eta) - 2 * np.exp(-t * eta) * np.cos(t * omega))]\n",
    "         \n",
    "and the other is eternally non-Markovian (cf. [*G. García-Pérez et al., npj Quantum Inf 6, 1 (2020)*](https://doi.org/10.1038/s41534-019-0235-y))\n",
    "\n",
    "    p_enm = [1/4 * (1 - np.exp(-2 * t * eta)), \n",
    "             1/4 * (1 - np.exp(-2 * t * eta)),\n",
    "             1/4 * (1 + np.exp(-2 * t * eta) - 2 * np.exp(-t * eta) * np.cosh(t * omega))]\n",
    "\n",
    "1. Write the functions `p_ncp(t)` and `p_enm(t)` that return the circuit simulating the Pauli channel at time $t$ for the two dynamics above.\n",
    "2. Write a circuit in which you prepare two qubits (the system and memory) in the $|\\Psi^-\\rangle = \\frac{1}{\\sqrt{2}}{(|01\\rangle - |10\\rangle)}$ state.\n",
    "3. Let's use the following time steps and parameters for the dynamics.\n",
    "\n",
    "        t_values = np.linspace(0, 3, 11)\n",
    "\n",
    "        params_ncp = {'eta': 0.1, 'omega': 2.0}\n",
    "        params_enm = {'eta': 1.0, 'omega': 0.5}\n",
    "\n",
    "    write the circuits implementing the dynamics for each of the `t_values`.\n",
    "   \n",
    "4. For each circuit perform state tomography on a simulator, compute and plot the extractable work as a function of time for both dynamics. Execute the circuits using [`qiskit_experiments.framework.BatchExperiment`](https://qiskit.org/ecosystem/experiments/stubs/qiskit_experiments.framework.BatchExperiment.html#qiskit_experiments.framework.BatchExperiment) by providing a list of `StateTomography` instances. This way you can execute all the necessary circuits in one call, which can speed up the experiments when dealing with e.g. real devices.\n",
    "5. Plot also the exact values for the extractable work for both dynamics.\n"
   ]
  },
  {
   "cell_type": "markdown",
   "metadata": {},
   "source": [
    "## Optional Tasks\n",
    "\n",
    "1. Use the circuit of the general Pauli channel to implement the depolarizing channel on the real machine, and compare the experimental outcome with the ones from the previous project. Which one has higher fidelities?\n",
    "\n",
    "2. Run the code above on a real device and compare it with the simulation. See the solution of project 1 for help!"
   ]
  },
  {
   "cell_type": "code",
   "execution_count": null,
   "metadata": {},
   "outputs": [],
   "source": []
  }
 ],
 "metadata": {
  "kernelspec": {
   "display_name": "Python 3",
   "language": "python",
   "name": "python3"
  },
  "language_info": {
   "codemirror_mode": {
    "name": "ipython",
    "version": 3
   },
   "file_extension": ".py",
   "mimetype": "text/x-python",
   "name": "python",
   "nbconvert_exporter": "python",
   "pygments_lexer": "ipython3",
   "version": "3.11.9"
  }
 },
 "nbformat": 4,
 "nbformat_minor": 2
}
