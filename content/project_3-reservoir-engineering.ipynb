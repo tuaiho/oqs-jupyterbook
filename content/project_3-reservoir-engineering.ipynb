{
 "cells": [
  {
   "cell_type": "markdown",
   "metadata": {},
   "source": [
    "## Projekti 3: Markovin varasto -tekniikka"
   ]
  },
  {
   "cell_type": "markdown",
   "metadata": {},
   "source": [
    "Vuosikymmenten ajan ympäristön melua on pidetty kvanttiteknologian arkkivihollisena. Usein vuorovaikutukset kvanttisysteemin ja ympäristön välillä johtavat kvanttiominaisuuksien nopeaan häviämiseen ja ikävästi juuri lomittumisen ja koherenssin menetykseen, jotka olisivat keskeisiä kvanttiedun tarjoajia. \n",
    "Näkökulma tähän muuttui merkittävästi, kun fyysikot osoittivat, että muokkaamalla keinotekoista ympäristöä sopivalla tavalla (quantum reservoir engineering) systeemiä voidaan ohjata kohti haluttua tilaa, kuten vaikka maksimaalisesti lomittunutta tilaa [[J. T. Barreiro, et al., Nature 470, 486 (2011)](https://doi.org/10.1038/nature09801),[ J. T. Barreiro et al., Nat. Phys. 6, 943 (2010)](https://doi.org/10.1038/nphys1781)]. Näin ollen ajatus ympäristöstä kvanttiteknologian vihollisena kääntyi aivan päälaelleen.\n",
    "\n",
    "Seurailemme tutkimusta [J. T. Barreiro, et al., Nature 470, 486 (2011)](https://doi.org/10.1038/nature09801) ja simuloimme kokeellisesti puoliryhmän Markovin mestariyhtälön kahden kubitin avoimelle systeemille, jolla on asymptoottisena, stationaarisena tilana Bellin tila $|\\psi^- \\rangle = \\frac{1}{\\sqrt{2} }(|01\\rangle - |10\\rangle)$, jossa $|0\\rangle$ ja $|1\\rangle$ muodostavat kubittien laskennallisen kannan. Käytämme merkintää $| 01\\rangle = |0\\rangle_1 |1\\rangle _2$. Näin ollen voimme valmistaa maksimaalisen lomittuneen tilan systeemin luonnollisen kehityksen, eli tässä tapauksessa avoimen systeemin dissipatiivisen dynamiikan tuloksena. "
   ]
  },
  {
   "cell_type": "markdown",
   "metadata": {},
   "source": [
    "Neljä Bellin tilaa ovat:  \n",
    "\n",
    "\\begin{align}\n",
    "|\\psi^- \\rangle = \\frac{1}{\\sqrt{2} }(|01\\rangle - |10\\rangle) \\\\\n",
    "|\\psi^+ \\rangle = \\frac{1}{\\sqrt{2} }(|01\\rangle + |10\\rangle) \\\\\n",
    "|\\phi^- \\rangle = \\frac{1}{\\sqrt{2} }(|00\\rangle - |11\\rangle)  \\\\\n",
    "|\\phi^+ \\rangle = \\frac{1}{\\sqrt{2} }(|00\\rangle + |11\\rangle) \n",
    "\\end{align}\n",
    "\n",
    "Jokainen niistä on uniikki, ominaisarvoa $\\pm1$ vastaava ominaistila operaattoreille $\\sigma_z^{(1)} \\otimes \\sigma_z^{(2)}$ ja $\\sigma_x^{(1)}\\otimes\\sigma_x^{(2)}$, jossa $\\sigma_x^{(i)}$ and $\\sigma_z^{(i)}$, $i=1,2$, ovat Paulin $x$- ja $z$-operaattoreita kubiteille 1 ja 2."
   ]
  },
  {
   "cell_type": "markdown",
   "metadata": {},
   "source": [
    "Dissipatiivinen dynamiikka, joka pumppaa kaksi kubittia mielivaltaisesta alkutilasta Bellin tilaan $|\\psi^- \\rangle $ toteutetaan yhdistelmän kahdesta kanavasta, jotka pumppaavat\n",
    "vakauttajaoperaattorien (stabiliser operators) $\\sigma_z^{(1)} \\otimes \\sigma_z^{(2)}$ ja  $\\sigma_x^{(1)} \\otimes \\sigma_x^{(2)}$ ominaisavaruudesta $+1$ ominaisavaruuteen $–1$. "
   ]
  },
  {
   "cell_type": "markdown",
   "metadata": {},
   "source": [
    "Erityisesti tarkastelemme kahta $p$-parametrisoitua joukkoa CPTP-kuvauksia $\\Phi_{zz} \\rho_S = E_{1z}  \\rho_S  E_{1z}^{\\dagger} + E_{2z}  \\rho_S  E_{2z}^{\\dagger} $, jossa \n",
    "\n",
    "\\begin{equation}\n",
    "\\begin{aligned}\n",
    "E_{1z} &=\\sqrt{p} \\mathbb{I}^{(1)} \\otimes \\sigma_x^{(2)} \\frac{1}{2}\\left( \\mathbb{I}+ \\sigma_z^{(1)} \\otimes \\sigma_z^{(2)} \\right), \\\\\n",
    "E_{2z}  &= \\frac{1}{2} \\left( \\mathbb{I}-\\sigma_z^{(1)}\\otimes\\sigma_z^{(2)} \\right) \\\\\n",
    "&+ \\sqrt{1-p} \\frac{1}{2} \\left( \\mathbb{I}+ \\sigma_z^{(1)}\\otimes\\sigma_z^{(2)} \\right),\n",
    "\\end{aligned}\n",
    "\\end{equation}\n",
    "\n",
    "ja $\\Phi_{xx}\\rho_S = E_{1x}  \\rho_S  E_{1x}^{\\dagger} + E_{2x}  \\rho_S  E_{2x}^{\\dagger} $, jossa $E_{1x}$:llä ja $E_{2x}$:llä on sama muoto kuin  $E_{1z}$:lla ja $E_{2z}$:lla, sillä erolla, että korvaamme $\\sigma_x^{(2)}$:n $\\sigma_z^{(2)}$:lla ja $\\sigma_z^{(1)}\\otimes\\sigma_z^{(2)}$:n korvaamme $\\sigma_x^{(1)}\\otimes\\sigma_x^{(2)}$:lla."
   ]
  },
  {
   "cell_type": "markdown",
   "metadata": {},
   "source": [
    "Muuttamalla parametria $0 \\le p \\le 1$ voimme simuloida erityyppisiä avointen systeemien dynamiikkoja. Jos $p\\ll1$, esimerkiksi operaattorin $\\Phi_{zz}$ toistuva käyttö tuottaa Lindbladin muodossa olevan mestariyhtälön, jossa hyppyoperaattori on $V=\\frac{1}{2}  \\mathbb{I}^{(1)}\\otimes\\sigma_x^{(2)}\\left( \\mathbb{I}+ \\sigma_z^{(1)} \\otimes \\sigma_z^{(2)} \\right)$. Jos taas $p=1$, kuvaus $\\Phi_{xx} \\circ \\Phi_{zz}$ tuottaa tilan $|\\psi_- \\rangle $ mistä vain alkutilasta.  "
   ]
  },
  {
   "cell_type": "markdown",
   "metadata": {},
   "source": [
    "### Piirin toteutus <a id='circuit'></a>"
   ]
  },
  {
   "cell_type": "markdown",
   "metadata": {},
   "source": [
    "Tutkimuksessa [J. T. Barreiro, et al., Nature 470, 486 (2011)](https://doi.org/10.1038/nature09801) esitellään piirit, joilla voi toteuttaa Bellin tilojen pumppaamisen. Portit, joista nämä piirit koostuvat, ovat luonnollinen valinta tutkimuksessa käytettävälle trapped-ions-tyyppiselle alustalle, mutta niiden suora kopioiminen IBM:n kvanttilaitteelle johtaisi aivan liian pitkiin piireihin. Siispä käytämme piirejä, joiden toimintaperiaate on sama kuin tutkimuksen piireillä, mutta joiden suunnittelussa on huomioitu IBM:n laitteiden ominaisuudet. "
   ]
  },
  {
   "cell_type": "markdown",
   "metadata": {},
   "source": [
    "Pumppauspiirit koostuvat neljästä osasta: \n",
    "\n",
    "   1. Olennaiset tiedot systeemin tilasta kuvataan apukubiteille (eli onko systeemi vakauttajaoperaattorien $+1$- vai $-1$-ominaisavaruudessa). \n",
    "\n",
    "   2. Systeemin tilaa muokataan riippuen apukubittien tilasta.\n",
    "\n",
    "   3. Kohdan 1 kuvauspiiri käännetään ympäri. \n",
    "\n",
    "   4. Tässä vaiheessa pumppauskierros on valmis. Jos apukubitteja on tarkoitus käyttää uudelleen seuraavalla pumppauskierroksella, ne täytyy nollata, mikä on neljäs askel.\n",
    "\n",
    "Seuraamme tutkimuksen suuntaviivoja ja suunnittelemme piirit, jotka suorittavat samat vaiheet mahdollisimman pienellä määrällä portteja. Ennen tarkempaa perehtymistä näihin piireihin on hyvä mainita, että meidän on käytettävä eri apukubitteja jokaisella pumppauskierroksella, sillä kaikista IBM:n laitteista ei löydy nollaustoimintoa (joka olisi aika meluisa joka tapauksessa). "
   ]
  },
  {
   "cell_type": "markdown",
   "metadata": {},
   "source": [
    "Kuvaamme tiedot ominaisavaruuksista apukubiteille soveltamalla ensin CNOT-porttia systeemikubitteihin. Oletetaan, että kubitit $s_1$ ja $s_2$ ovat aluksi jossakin Bellin tilassa, esimerkiksi tilassa $| \\phi^{\\pm} \\rangle = (| 00 \\rangle \\pm | 11 \\rangle)/\\sqrt{2}$. Kubitin $s_1$ kontrolloima CNOT-portti muuttaa tilan tilaksi $|\\pm\\rangle|0\\rangle$. Sen sijaan tila $| \\psi^{\\pm} \\rangle$ muuttuisi tilaksi $|\\pm\\rangle|1\\rangle$. Näin ollen operaattorin $\\sigma_x^{(1)}\\otimes\\sigma_x^{(2)}$ ominaisavaruutta koskeva tieto (käytännössä merkki) sisältyy kubitin $s_1$ tilaan muunnoksen jälkeen, kun taas operaattorin $\\sigma_z^{(1)}\\otimes\\sigma_z^{(2)}$ ominaisavaruutta koskeva tieto sisältyy kubittiin $s_2$.  "
   ]
  },
  {
   "cell_type": "markdown",
   "metadata": {},
   "source": [
    "Tarkastellaan nyt piiriä, joka toteuttaa $\\sigma_z^{(1)}\\otimes\\sigma_z^{(2)}$ -pumpun:"
   ]
  },
  {
   "cell_type": "code",
   "execution_count": 1,
   "metadata": {},
   "outputs": [],
   "source": [
    "from qiskit import QuantumRegister, QuantumCircuit\n",
    "import numpy as np"
   ]
  },
  {
   "cell_type": "code",
   "execution_count": 2,
   "metadata": {},
   "outputs": [
    {
     "data": {
      "image/png": "[encoded data removed]",
      "text/plain": [
       "<Figure size 447.797x204.68 with 1 Axes>"
      ]
     },
     "execution_count": 2,
     "metadata": {},
     "output_type": "execute_result"
    }
   ],
   "source": [
    "#######################\n",
    "#       ZZ pump       #\n",
    "#######################\n",
    "\n",
    "# Quantum register\n",
    "q = QuantumRegister(3, name='q')\n",
    "\n",
    "# Quantum circuit  \n",
    "zz = QuantumCircuit(q)\n",
    "\n",
    "# ZZ pump acting on system qubits\n",
    "## Qubit identification\n",
    "system = [2, 1]\n",
    "a_zz = 0\n",
    "\n",
    "## Define pump efficiency \n",
    "## and corresponding rotation\n",
    "p = 0.5\n",
    "theta = 2 * np.arcsin(np.sqrt(p))\n",
    "\n",
    "## Construct circuit\n",
    "### Map information to ancilla\n",
    "zz.cx(q[system[0]], q[system[1]])\n",
    "zz.x(q[a_zz])\n",
    "zz.cx(q[system[1]], q[a_zz])\n",
    "    \n",
    "### Conditional rotation\n",
    "zz.cu(theta, 0.0, 0.0, 0, q[a_zz], q[system[1]])\n",
    "    \n",
    "### Inverse mapping\n",
    "zz.cx(q[system[1]], q[a_zz])\n",
    "zz.cx(q[system[0]], q[system[1]])\n",
    "\n",
    "# Draw circuit\n",
    "zz.draw(output='mpl')"
   ]
  },
  {
   "cell_type": "markdown",
   "metadata": {},
   "source": [
    "Kuvataksemme tiedot ominaisavaruuksista ympäristöapukubitille $a_\\textrm{ZZ}$ käytämme sopivan kubitin ($s_2$) kontrolloimaa CNOT-porttia. Näiden kahden portin jälkeen (ja olettaen, että apukubitin alkutila on $|1\\rangle$)), $a_\\textrm{ZZ}$:n tila tulee olemaan $|1\\rangle$, jos systeemin alkutila on $| \\phi^{\\pm} \\rangle$ ja $|0\\rangle$, jos systeemin alkutila on $| \\psi^{\\pm} \\rangle$. Siispä ehdollinen kiertoportti (conditional rotation gate) toimii ainoastaan ensimmäisessä tapauksessa, kun taas toisessa tapauksessa se ei muokkaa tilaa. Kontrolloidun kierron kulma puolestaan määrää pumppauksen $p$ tehokkuuden relaation $\\theta = 2 \\arcsin{\\sqrt{p} }$ mukaisesti. Viimeiset kaksi CNOT-porttia pelkästään kääntävät piirin kuvausosan. \n",
    "\n",
    "Toimintaperiaate $\\sigma_x^{(1)}\\otimes\\sigma_x^{(2)}$ -pumpulle on käytännössä sama. Tarvitaan kuitenkin yksi ylimääräinen Hadamardin portti muuttamaan $s_1$:n tila ennen informaation kuvaamista apukubitille $a_\\textrm{XX}$: "
   ]
  },
  {
   "cell_type": "code",
   "execution_count": 3,
   "metadata": {},
   "outputs": [
    {
     "data": {
      "image/png": "[encoded data removed]",
      "text/plain": [
       "<Figure size 568.197x264.88 with 1 Axes>"
      ]
     },
     "execution_count": 3,
     "metadata": {},
     "output_type": "execute_result"
    }
   ],
   "source": [
    "#######################\n",
    "#       XX pump       #\n",
    "#######################\n",
    "\n",
    "# Quantum register\n",
    "q = QuantumRegister(4, name='q')\n",
    "\n",
    "# Quantum circuit  \n",
    "xx = QuantumCircuit(q)\n",
    "\n",
    "# XX pump acting on system qubits\n",
    "## Qubit identification\n",
    "system = [1, 0]\n",
    "a_xx = 3\n",
    "\n",
    "## Define pump efficiency \n",
    "## and corresponding rotation\n",
    "p = 0.5\n",
    "theta = 2 * np.arcsin(np.sqrt(p))\n",
    "\n",
    "## Construct circuit\n",
    "### Map information to ancilla\n",
    "xx.cx(q[system[0]], q[system[1]])\n",
    "xx.h(q[system[0]])\n",
    "xx.x(q[a_xx])\n",
    "xx.cx(q[system[0]], q[a_xx])\n",
    "    \n",
    "### Conditional rotation\n",
    "xx.cu(theta, 0.0, 0.0, 0, q[a_xx], q[system[0]])\n",
    "    \n",
    "### Inverse mapping\n",
    "xx.cx(q[system[0]], q[a_xx])\n",
    "xx.h(q[system[0]])\n",
    "xx.cx(q[system[0]], q[system[1]])\n",
    "\n",
    "# Draw circuit\n",
    "xx.draw(output='mpl')"
   ]
  },
  {
   "cell_type": "markdown",
   "metadata": {},
   "source": [
    "Yhdistelmäpumpun tapauksessa voimme yksinkertaisesti ketjuttaa kaksi piiriä. Huomaa, että jos piirit laittaa suoraan yhteen, systeemikubittien väliin jää kaksi peräkkäistä CNOT-porttia, jotka voidaan poistaa. "
   ]
  },
  {
   "cell_type": "code",
   "execution_count": 4,
   "metadata": {},
   "outputs": [
    {
     "data": {
      "image/png": "[encoded data removed]",
      "text/plain": [
       "<Figure size 628.397x325.08 with 1 Axes>"
      ]
     },
     "execution_count": 4,
     "metadata": {},
     "output_type": "execute_result"
    }
   ],
   "source": [
    "###########################\n",
    "#       ZZ-XX pumps       #\n",
    "###########################\n",
    "\n",
    "# Quantum register\n",
    "q = QuantumRegister(5, name='q')\n",
    "\n",
    "# Quantum circuit  \n",
    "zz_xx = QuantumCircuit(q)\n",
    "\n",
    "# ZZ and XX pumps acting on system qubits\n",
    "## Qubit identification\n",
    "system = [2, 1]\n",
    "a_zz = 0\n",
    "a_xx = 4\n",
    "\n",
    "## Define pump efficiency \n",
    "## and corresponding rotation\n",
    "p = 0.5\n",
    "theta = 2 * np.arcsin(np.sqrt(p))\n",
    "\n",
    "## Construct circuit\n",
    "## ZZ pump\n",
    "### Map information to ancilla\n",
    "zz_xx.cx(q[system[0]], q[system[1]])\n",
    "zz_xx.x(q[a_zz])\n",
    "zz_xx.cx(q[system[1]], q[a_zz])\n",
    "    \n",
    "### Conditional rotation\n",
    "zz_xx.cu(theta, 0.0, 0.0, 0, q[a_zz], q[system[1]])\n",
    "    \n",
    "### Inverse mapping\n",
    "zz_xx.cx(q[system[1]], q[a_zz])\n",
    "#zz_xx.cx(q[system[0]], q[system[1]])\n",
    "\n",
    "## XX pump\n",
    "### Map information to ancilla\n",
    "#zz_xx.cx(q[system[0]], q[system[1]])\n",
    "zz_xx.h(q[system[0]])\n",
    "zz_xx.x(q[a_xx])\n",
    "zz_xx.cx(q[system[0]], q[a_xx])\n",
    "    \n",
    "### Conditional rotation\n",
    "zz_xx.cu(theta, 0.0, 0.0, 0, q[a_xx], q[system[0]])\n",
    "    \n",
    "### Inverse mapping\n",
    "zz_xx.cx(q[system[0]], q[a_xx])\n",
    "zz_xx.h(q[system[0]])\n",
    "zz_xx.cx(q[system[0]], q[system[1]])\n",
    "\n",
    "# Draw circuit\n",
    "zz_xx.draw(output='mpl')"
   ]
  },
  {
   "cell_type": "markdown",
   "metadata": {},
   "source": [
    "Tämän projektin tavoitteena on ohjata näitä piirejä käyttäen systeemi maksimaalisen sekoittuneesta tilasta tilaan $|\\psi^-\\rangle$. Tässä projektissa emme käytä tomografista rekonstruktiota kahden kubitin tilasta. Sen sijaan mittaamme neljän Bellin tilan populaatioita kannanvaihdon avulla."
   ]
  },
  {
   "cell_type": "markdown",
   "metadata": {},
   "source": [
    "### Tehtävä 1 (1p)\n",
    "Kirjoita kolme funktiota, yksi jokaiselle kanavalle (ZZ, XX ja niiden yhdistelmät). Funktion tulee palauttaa annetulle tehokkuusparametrin $p$ arvolle kvanttipiiri, joka toteuttaa kyseisen kanavan systeemikubiteille. (Yhdistelmien tapauksessa oleta yhtä suuret tehokkuudet molemmille.) Piirien täytyy sisältää **systeemikubitin mittaus Bellin kannassa** käyttäen CNOT:ia ja Hadamardin porttia sopiviin kubitteihin. Vihje: poista peräkkäiset CNOT-portit (ja yhden kubitin portit), jotka johtavat vain identiteettiportteihin. \n",
    "\n",
    "Alla on ehdotus funktioiden rakenteeksi. "
   ]
  },
  {
   "cell_type": "code",
   "execution_count": null,
   "metadata": {},
   "outputs": [],
   "source": [
    "def zz_pump(q, c, p, system, ancilla):\n",
    "    \"\"\"Returns a QuantumCircuit implementing the ZZ pump channel on the system qubits\n",
    "    \n",
    "    Args:\n",
    "        q (QuantumRegister): the register to use for the circuit\n",
    "        c (ClassicalRegister): the register to use for the measurement of the system qubits\n",
    "        p (float): the efficiency for the channel, between 0 and 1\n",
    "        system (list): list of indices for the system qubits\n",
    "        ancilla (int): index for the ancillary qubit\n",
    "    \n",
    "    Returns:\n",
    "        A QuantumCircuit object\n",
    "    \"\"\""
   ]
  },
  {
   "cell_type": "code",
   "execution_count": null,
   "metadata": {},
   "outputs": [],
   "source": [
    "def xx_pump(q, c, p, system, ancilla):\n",
    "    \"\"\"Returns a QuantumCircuit implementing the XX pump channel on the system qubits\n",
    "    \n",
    "    Args:\n",
    "        q (QuantumRegister): the register to use for the circuit\n",
    "        c (ClassicalRegister): the register to use for the measurement of the system qubits\n",
    "        p (float): the efficiency for the channel, between 0 and 1\n",
    "        system (list): list of indices for the system qubits\n",
    "        ancilla (int): index for the ancillary qubit\n",
    "    \n",
    "    Returns:\n",
    "        A QuantumCircuit object\n",
    "    \"\"\""
   ]
  },
  {
   "cell_type": "code",
   "execution_count": null,
   "metadata": {},
   "outputs": [],
   "source": [
    "def zz_xx_pump(q, c, p, system, ancillae):\n",
    "    \"\"\"Returns a QuantumCircuit implementing the composition channel on the system qubits\n",
    "    \n",
    "    Args:\n",
    "        q (QuantumRegister): the register to use for the circuit\n",
    "        c (ClassicalRegister): the register to use for the measurement of the system qubits\n",
    "        p (float): the efficiency for both channels, between 0 and 1\n",
    "        system (list): list of indices for the system qubits\n",
    "        ancillae (list): list of indices for the ancillary qubits\n",
    "    \n",
    "    Returns:\n",
    "        A QuantumCircuit object\n",
    "    \"\"\""
   ]
  },
  {
   "cell_type": "markdown",
   "metadata": {},
   "source": [
    "### Tehtävä 2 (3p)\n",
    "\n",
    "We need to set the two-qubit system initially in the maximally mixed state $\\rho = I_4/4$, where $I_4$ is the $4\\times4$ identity matrix. In principle, this could be done by entangling the system with other ancillary qubits, but that would require two extra qubits in our simulation. Instead, we can create a *proper statistical mixture*. This means that we can obtain $\\rho$ by mixing four initially pure states, e.g. the two-qubit computational basis states.\n",
    "\n",
    "For each initial state of the qubits $|00\\rangle$, $|01\\rangle$, $|10\\rangle$ and $|11\\rangle$, apply the three channels for different values of $p \\in [0,1]$ and save the resulting Bell populations for the next task."
   ]
  },
  {
   "cell_type": "markdown",
   "metadata": {},
   "source": [
    "### Tehtävä 3 (3p)\n",
    "\n",
    "To finally simulate the effect of the different channels on the maximally mixed state, average all the results over the four initial states with a noiseless simulator. Plot the results as a function of the channel efficiency $p$."
   ]
  },
  {
   "cell_type": "markdown",
   "metadata": {},
   "source": [
    "### Tehtävä 4 (3p)\n",
    "\n",
    "Run the circuits on a noisy simulator (e.g. FakePerth) with readout error mitigation and plot the results. For readout error mitigation you can for example use [LocalReadoutError](https://qiskit.org/ecosystem/experiments/stubs/qiskit_experiments.library.characterization.LocalReadoutError.html) and apply the mitigator object on the results."
   ]
  },
  {
   "cell_type": "markdown",
   "metadata": {},
   "source": [
    "### Optional Task\n",
    "\n",
    "Run the circuits on IBM Quantum with noise mitigation and plot the results."
   ]
  }
 ],
 "metadata": {
  "kernelspec": {
   "display_name": "Python 3",
   "language": "python",
   "name": "python3"
  },
  "language_info": {
   "codemirror_mode": {
    "name": "ipython",
    "version": 3
   },
   "file_extension": ".py",
   "mimetype": "text/x-python",
   "name": "python",
   "nbconvert_exporter": "python",
   "pygments_lexer": "ipython3",
   "version": "3.11.9"
  }
 },
 "nbformat": 4,
 "nbformat_minor": 2
}
