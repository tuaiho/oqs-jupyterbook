{
 "cells": [
  {
   "cell_type": "markdown",
   "metadata": {},
   "source": [
    "## Projekti 4: Amplitudin vaimennus\n",
    "\n",
    "Tässä projektissa simuloimme Jaynesin-Cummingsin mallia, joka tunnetaan myös yleisenä amplitudinvaimennusmallina. Simuloimme myös dynamiikan Markovisuutta kytkennän vahvuudesta riippuen. Lisätietoja mallista löydät täältä: [Open Quantum Systems with Qiskit](https://matteoacrossi.github.io/oqs-jupyterbook/jaynes_cummings_with_losses.html). "
   ]
  },
  {
   "cell_type": "code",
   "execution_count": 1,
   "metadata": {},
   "outputs": [],
   "source": [
    "from qiskit import QuantumRegister, ClassicalRegister, QuantumCircuit\n",
    "import numpy as np"
   ]
  },
  {
   "cell_type": "markdown",
   "metadata": {},
   "source": [
    "Simuloidaksemme Jaynes-Cummingsin mallia, käsittelemme yhtä kubittia ($q_0$) systeeminä ja käytämme yhtä lisäkubittia ($q_1$) toteuttamaan dynaamisen kuvauksen. Toisin sanoin emme simuloi systeemin ja ympäristön dynamiikkaa, vaan ainoastaan lopputuloksena systeemikubittiin saatavaa kanavaa. Tästä huolimatta viittaamme lisäkubittiin $q_1$ ympäristökubittina. Koska kanavan ainoa parametri on $c_1(t)$ (jonka parametri puolestaan on aika), seuraava piiri johtaa tällaiseen dynamiikkaan: "
   ]
  },
  {
   "cell_type": "code",
   "execution_count": 2,
   "metadata": {},
   "outputs": [
    {
     "data": {
      "image/png": "[encoded data removed]",
      "text/plain": [
       "<Figure size 267.052x144.48 with 1 Axes>"
      ]
     },
     "execution_count": 2,
     "metadata": {},
     "output_type": "execute_result"
    }
   ],
   "source": [
    "###########################################\n",
    "#        Amplitude damping channel        #\n",
    "###########################################\n",
    "\n",
    "# Quantum register\n",
    "q = QuantumRegister(2, name='q')\n",
    "\n",
    "# Quantum circuit\n",
    "ad = QuantumCircuit(q)\n",
    "\n",
    "# Amplitude damping channel acting on system qubit\n",
    "## Qubit identification\n",
    "system = 0\n",
    "environment = 1\n",
    "\n",
    "# Define rotation angle\n",
    "theta = 0.0\n",
    "\n",
    "# Construct circuit\n",
    "ad.x(q[system])\n",
    "# Notice the extra factor 2 due to how qiskit defines the unitary angles\n",
    "ad.cu(theta, 0.0, 0.0, 0.0, q[system], q[environment])\n",
    "ad.cx(q[environment], q[system])\n",
    "\n",
    "# Draw circuit\n",
    "ad.draw(output='mpl')"
   ]
  },
  {
   "cell_type": "markdown",
   "metadata": {},
   "source": [
    "Muista, että yllä olevassa piirissä $\\theta = \\arccos{c_1(t)}$, jossa\n",
    "\\begin{equation}\n",
    "c_{1}(t)=e^{-\\lambda t/2}\\left[\\cosh\\left(\\frac{\\lambda t}{2}\\sqrt{1-2R}\\right)+\\frac{1}{\\sqrt{1-2R}}\\sinh\\left(\\frac{\\lambda t}{2}\\sqrt{1-2R}\\right)\\right].\n",
    "\\end{equation}"
   ]
  },
  {
   "cell_type": "markdown",
   "metadata": {},
   "source": [
    "### Tehtävä 1 (1p)\n",
    "\n",
    "Kirjoita funktio, joka palauttaa parametrin $c_1(t)$. Funktion tulisi hyväksyä ylimääräinen parametri $R$ ja palauttaa oikea arvo kummassakin tapauksessa, $R > 1/2$ ja $R < 1/2$. \n",
    "\n",
    "Tässä on ehdotus funktion rakenteeksi: "
   ]
  },
  {
   "cell_type": "code",
   "execution_count": 3,
   "metadata": {},
   "outputs": [],
   "source": [
    "def c1(R,t):\n",
    "    \"\"\"Returns the coherence factor in the amplitude damping channel\n",
    "    \n",
    "    Args:\n",
    "        R (float): value of R = \\gamma_0/\\lambda\n",
    "        t (float): value of the time variable\n",
    "    \n",
    "    Returns:\n",
    "        A float number\n",
    "    \"\"\""
   ]
  },
  {
   "cell_type": "markdown",
   "metadata": {},
   "source": [
    "### Tehtävä 2 (1p)\n",
    "\n",
    "Kirjoita funktio, joka palauttaa amplitudinvaimennuskanavan annetuille $R$:n ja $t$:n arvoille. Voit joko sisällyttää systeemin alkutilan ($|1\\rangle$) funktioon tai alustaa tilan jossain muualla myöhemmin. \n",
    "\n",
    "Ehdotus rakenteeksi: "
   ]
  },
  {
   "cell_type": "code",
   "execution_count": 4,
   "metadata": {},
   "outputs": [],
   "source": [
    "def amplitude_damping_channel(q, c, sys, env, R, t):\n",
    "    \"\"\"Returns a QuantumCircuit implementing the amplitude damping channel on the system qubit\n",
    "    \n",
    "    Args:\n",
    "        q (QuantumRegister): the register to use for the circuit\n",
    "        c (ClassicalRegister): the register to use for the measurement of the system qubit\n",
    "        sys (int): index for the system qubit\n",
    "        env (int): index for the environment qubit\n",
    "        R (float): value of R = \\gamma_0/\\lambda\n",
    "        t (float): value of the time variable\n",
    "    \n",
    "    Returns:\n",
    "        A QuantumCircuit object\n",
    "    \"\"\""
   ]
  },
  {
   "cell_type": "markdown",
   "metadata": {},
   "source": [
    "### Tehtävä 3 (3p)\n",
    "\n",
    "Valitse joitakin (ainakin kaksi) $R$:n arvoa. Näiden joukosta pitäisi löytyä sekä suurempia että pienempiä arvoja kuin $1/2$. Simuloi jokaista arvoa kohden amplitudinvaimennuskanava useilla $t$:n arvoilla ja mittaa atomin todennäköisyys olla virittyneessä tilassa ($|1\\rangle$) sekä meluttomassa että melullisessa simulaattorissa (esim. FakePerth), käyttäen lukuvirheen vaimennusta ([LocalReadoutError](https://qiskit.org/ecosystem/experiments/stubs/qiskit_experiments.library.characterization.LocalReadoutError.html)). Piirrä kuvaajat tuloksista. "
   ]
  },
  {
   "cell_type": "markdown",
   "metadata": {},
   "source": [
    "### Tehtävä 4 (1p)\n",
    "\n",
    "Siirrämme nyt huomion dynamiikan Markovisuuteen. Tätä varten simuloimme kanavan, joka esittelee todisteen (witness) ei-Markovisuudelle (piiri alla). "
   ]
  },
  {
   "cell_type": "code",
   "execution_count": 3,
   "metadata": {},
   "outputs": [
    {
     "data": {
      "image/png": "[encoded data removed]",
      "text/plain": [
       "<Figure size 507.997x264.88 with 1 Axes>"
      ]
     },
     "execution_count": 3,
     "metadata": {},
     "output_type": "execute_result"
    }
   ],
   "source": [
    "#######################################\n",
    "#      Amplitude damping channel      #\n",
    "#         with non-M. witness         #\n",
    "#######################################\n",
    "\n",
    "# Quantum and classical register\n",
    "q = QuantumRegister(3, name='q')\n",
    "c = ClassicalRegister(2, name='c')\n",
    "\n",
    "# Quantum circuit\n",
    "ad = QuantumCircuit(q, c)\n",
    "\n",
    "# Amplitude damping channel acting on system qubit\n",
    "# with non-Markovianity witness\n",
    "## Qubit identification\n",
    "system = 0\n",
    "environment = 1\n",
    "ancilla = 2\n",
    "\n",
    "# Define rotation angle\n",
    "theta = 0.0\n",
    "\n",
    "# Construct circuit\n",
    "## Bell state between system and ancilla\n",
    "ad.h(q[system])\n",
    "ad.cx(q[system], q[ancilla])\n",
    "\n",
    "## Channel acting on system qubit\n",
    "ad.cu(theta, 0.0, 0.0, 0.0, q[system], q[environment])\n",
    "ad.cx(q[environment], q[system])\n",
    "\n",
    "## Local measurement for the witness\n",
    "### Choose observable\n",
    "observable = 'YY'\n",
    "### Change to the corresponding basis\n",
    "if observable == 'XX':\n",
    "    ad.h(q[system])\n",
    "    ad.h(q[ancilla])\n",
    "elif observable == 'YY':\n",
    "    ad.sdg(q[system])\n",
    "    ad.h(q[system])\n",
    "    ad.sdg(q[ancilla])\n",
    "    ad.h(q[ancilla])\n",
    "### Measure\n",
    "ad.measure(q[system], c[0])\n",
    "ad.measure(q[ancilla], c[1])\n",
    "\n",
    "# Draw circuit\n",
    "ad.draw(output='mpl')"
   ]
  },
  {
   "cell_type": "markdown",
   "metadata": {},
   "source": [
    "Todennäköisyys mitata systeemi ja apukubitti tilasta $| \\phi^{+} \\rangle \\langle \\phi^{+} | = (\\mathbb{I}\\otimes \\mathbb{I} + \\sigma_{x}\\otimes \\sigma_{x} - \\sigma_{y}\\otimes \\sigma_{y} + \\sigma_{z}\\otimes \\sigma_{z})/4$ antaa todisteen ei-Markovisuudesta. Yllä oleva piiri mahdollistaa näitä vastaavien suureiden mittaamisen. \n",
    "\n",
    "Kirjoita funktio, joka palauttaa annetulle todistesuureelle ja parametreille $R$ ja $t$ niitä vastaavan piirin. \n",
    "\n",
    "Ehdotus rakenteeksi:"
   ]
  },
  {
   "cell_type": "code",
   "execution_count": null,
   "metadata": {},
   "outputs": [],
   "source": [
    "def amplitude_damping_channel_witness(q, c, sys, env, anc, observable, R, t):\n",
    "    \"\"\"Returns a QuantumCircuit implementing the amplitude damping channel on the system qubit with non-Markovianity witness\n",
    "    \n",
    "    Args:\n",
    "        q (QuantumRegister): the register to use for the circuit\n",
    "        c (ClassicalRegister): the register to use for the measurement of the system and ancilla qubits\n",
    "        sys (int): index for the system qubit\n",
    "        env (int): index for the environment qubit\n",
    "        anc (int): index for the ancillary qubit\n",
    "        observable (str): the observable to be measured. Possible values \"XX\", \"YY\", \"ZZ\"\n",
    "        R (float): value of R = \\gamma_0/\\lambda\n",
    "        t (float): value of the time variable\n",
    "    \n",
    "    Returns:\n",
    "        A QuantumCircuit object\n",
    "    \"\"\""
   ]
  },
  {
   "cell_type": "markdown",
   "metadata": {},
   "source": [
    "### Tehtävä 5 (4p)\n",
    "\n",
    "Simuloi dynamiikkaa todisteen kanssa samoilla $R$:n ja $t$:n arvoilla kuin tehtävässä 3. Aja siis piirit sekä meluttomassa että meluisassa simulaattorissa (esim. FakePerth) käyttäen lukuvirheen vaimennusta kolmelle suureelle $\\sigma_{x}\\otimes \\sigma_{x}$, $\\sigma_{y}\\otimes \\sigma_{y}$ ja $\\sigma_{z}\\otimes \\sigma_{z}$ ja laske niiden odotusarvot. Tämän avulla voit laskea todisteen arvon kaavalla $1 + \\left\\langle \\sigma_{x}\\otimes \\sigma_{x} \\right\\rangle - \\left\\langle\\sigma_{y}\\otimes \\sigma_{y} \\right\\rangle + \\left\\langle\\sigma_{z}\\otimes \\sigma_{z} \\right\\rangle)/4$. Piirrä tulokset $t$:n funktiona."
   ]
  },
  {
   "cell_type": "markdown",
   "metadata": {},
   "source": [
    "### Valinnainen lisätehtävä\n",
    "\n",
    "Aja tehtävän piirit IBM Quantum –laitteella käyttäen lukuvirheen vaimennusta ja piirrä kuvaajat tuloksista. "
   ]
  }
 ],
 "metadata": {
  "kernelspec": {
   "display_name": "Python 3.8.5 64-bit ('base': conda)",
   "name": "python3"
  },
  "language_info": {
   "codemirror_mode": {
    "name": "ipython",
    "version": 3
   },
   "file_extension": ".py",
   "mimetype": "text/x-python",
   "name": "python",
   "nbconvert_exporter": "python",
   "pygments_lexer": "ipython3",
   "version": "3.11.9"
  }
 },
 "nbformat": 4,
 "nbformat_minor": 2
}
